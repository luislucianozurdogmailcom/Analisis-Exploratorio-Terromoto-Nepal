{
  "nbformat": 4,
  "nbformat_minor": 0,
  "metadata": {
    "colab": {
      "name": "TP2",
      "provenance": [],
      "collapsed_sections": [
        "VNd5QNgJoA9-",
        "CJn2FSFLRrPz",
        "zl4mXcFMeM4X"
      ],
      "authorship_tag": "ABX9TyOJ4lq3S3a3tYOv4QUq2q1z",
      "include_colab_link": true
    },
    "kernelspec": {
      "name": "python3",
      "display_name": "Python 3"
    },
    "language_info": {
      "name": "python"
    }
  },
  "cells": [
    {
      "cell_type": "markdown",
      "metadata": {
        "id": "view-in-github",
        "colab_type": "text"
      },
      "source": [
        "<a href=\"https://colab.research.google.com/github/luislucianozurdogmailcom/Analisis-Exploratorio-Terromoto-Nepal/blob/master/TP2.ipynb\" target=\"_parent\"><img src=\"https://colab.research.google.com/assets/colab-badge.svg\" alt=\"Open In Colab\"/></a>"
      ]
    },
    {
      "cell_type": "markdown",
      "metadata": {
        "id": "W4eHyGy_I7re"
      },
      "source": [
        "# **Importamos el dataset**"
      ]
    },
    {
      "cell_type": "code",
      "metadata": {
        "id": "dwzZijuIIvbL",
        "colab": {
          "base_uri": "https://localhost:8080/"
        },
        "outputId": "70ac1205-593a-43f4-d95d-191e0533edd9"
      },
      "source": [
        "from google.colab import drive\n",
        "drive.mount('/content/gdrive')"
      ],
      "execution_count": null,
      "outputs": [
        {
          "output_type": "stream",
          "text": [
            "Mounted at /content/gdrive\n"
          ],
          "name": "stdout"
        }
      ]
    },
    {
      "cell_type": "code",
      "metadata": {
        "id": "f2CHySMgJDqq"
      },
      "source": [
        "import pandas as pd\n",
        "import numpy as np\n",
        "import matplotlib.pyplot as plt\n",
        "import seaborn as sns\n",
        "from sklearn.model_selection import train_test_split\n",
        "\n",
        "\n",
        "X_train     = pd.read_csv('/content/gdrive/MyDrive/Colab Notebooks/train_values.csv',index_col='building_id');\n",
        "y_train     = pd.read_csv('/content/gdrive/MyDrive/Colab Notebooks/train_labels.csv',index_col='building_id');\n",
        "test_values = pd.read_csv('/content/gdrive/MyDrive/Colab Notebooks/test_values.csv',index_col='building_id');\n",
        "df          = pd.merge(X_train,y_train,on = 'building_id');"
      ],
      "execution_count": null,
      "outputs": []
    },
    {
      "cell_type": "markdown",
      "metadata": {
        "id": "VNd5QNgJoA9-"
      },
      "source": [
        "# **Tratamiento de datos con frecuency encoding, subsampleo y normalización**"
      ]
    },
    {
      "cell_type": "markdown",
      "metadata": {
        "id": "oR9tWOXOI7uR"
      },
      "source": [
        "Eliminamos la columna de ID y encodeamos los datos de variables categoricas a travez de frecuency encoding, las variables de geo_level tambien caerán en este encodeo. Esto es debido a que los numeros dados a las zonas no son representativos de alguna relacion entre los numeros, es decir, fueron dados numeros por poner un numero y poder diferenciarlos mas facilemente."
      ]
    },
    {
      "cell_type": "code",
      "metadata": {
        "id": "dNwWQDXlIJWR"
      },
      "source": [
        "df.drop(columns = ['building_id'],inplace = True);"
      ],
      "execution_count": null,
      "outputs": []
    },
    {
      "cell_type": "code",
      "metadata": {
        "id": "tX84V7ceI6Nl"
      },
      "source": [
        "columnas = ['land_surface_condition',\n",
        "            'foundation_type',\n",
        "            'roof_type',\n",
        "            'ground_floor_type',\n",
        "            'other_floor_type',\n",
        "            'position',\n",
        "            'plan_configuration',\n",
        "            'legal_ownership_status',\n",
        "            'geo_level_1_id',\n",
        "            'geo_level_2_id',\n",
        "            'geo_level_3_id'];\n",
        "\n",
        "for row in columnas:\n",
        "  # Calculamos la frecuencia por cada grado de cada valor de la variable\n",
        "  Auxiliar = df.groupby([row]).size()/len(df);\n",
        "\n",
        "  # Reemplazamos la columna por la columna de frecuencias\n",
        "  df.loc[:,row] = df[row].map(Auxiliar);"
      ],
      "execution_count": null,
      "outputs": []
    },
    {
      "cell_type": "markdown",
      "metadata": {
        "id": "vfHVXsBiBUHi"
      },
      "source": [
        "Normalizaremos los datos para que las variables esten en un rango de 0 - 1, con su media restada y sobre su desviación estandar"
      ]
    },
    {
      "cell_type": "code",
      "metadata": {
        "id": "pcwR1otyBTfv"
      },
      "source": [
        "# Ponemos las variables numericas entre 0-1\n",
        "df_normalizado = df.copy()\n",
        "columnas       = ['count_floors_pre_eq',\n",
        "                  'age',\n",
        "                  'area_percentage',\n",
        "                  'height_percentage',\n",
        "                  'count_families'];\n",
        "\n",
        "for i in columnas:\n",
        "  # Restamos la media y lo dividimos por la varianza\n",
        "  df_normalizado[i] = (df[i]-df[i].mean())/df[i].std();\n",
        "  \n",
        "  # Escalamos entre valores entre 0 y 1\n",
        "  min_value         = df_normalizado[i].min();\n",
        "  max_value         = df_normalizado[i].max();\n",
        "  df_normalizado[i] = (df_normalizado[i]-min_value)/(max_value-min_value); "
      ],
      "execution_count": null,
      "outputs": []
    },
    {
      "cell_type": "markdown",
      "metadata": {
        "id": "-YffnaR86i-K"
      },
      "source": [
        "Debido a que tenemos un set de datos DESBALANCEADO vamos a subsamplear los datos para equilibrar la cantidad de damage_rate para que 1/3 del total sean 1, 1/3 del total sean 2 y el ultimo 1/3 del total sean 3."
      ]
    },
    {
      "cell_type": "code",
      "metadata": {
        "id": "Nj78pSaOGnLx"
      },
      "source": [
        "# Agrupamos por valor de damage_grade y contamos sus repeticiones en el dataset\n",
        "sub_sampleo_count = df_normalizado.groupby(['damage_grade']).agg({'roof_type':'count'});\n",
        "\n",
        "# Buscamos el valor de damage_grade que presenta menor numero de repeticiones\n",
        "sub_sampleo_min   = sub_sampleo_count['roof_type'].min()\n",
        "\n",
        "# Separamos el dataframe en tres df con los valores de damage_grade en 1,2 y 3\n",
        "df_normalizado_damage_1 = df_normalizado[df_normalizado['damage_grade'] == 1];\n",
        "df_normalizado_damage_2 = df_normalizado[df_normalizado['damage_grade'] == 2];\n",
        "df_normalizado_damage_3 = df_normalizado[df_normalizado['damage_grade'] == 3];\n",
        "\n",
        "# Desordenamos los datos aleatoriamente de los tres dataframes\n",
        "df_normalizado_damage_1 = df_normalizado_damage_1.sample(frac=1)\n",
        "df_normalizado_damage_2 = df_normalizado_damage_2.sample(frac=1)\n",
        "df_normalizado_damage_3 = df_normalizado_damage_3.sample(frac=1)\n",
        "\n",
        "# Sub sampleamos\n",
        "df_normalizado_damage_1 = df_normalizado_damage_1.iloc[0:sub_sampleo_min];\n",
        "df_normalizado_damage_2 = df_normalizado_damage_2.iloc[0:sub_sampleo_min];\n",
        "df_normalizado_damage_3 = df_normalizado_damage_3.iloc[0:sub_sampleo_min];\n",
        "\n",
        "# Unimos los df nuevamente en un unico df ya subsampleado y lo desordenamos nuevamente\n",
        "df_normalizado_subsampleado = pd.concat([df_normalizado_damage_1,df_normalizado_damage_2,df_normalizado_damage_3],axis=0);\n",
        "df_normalizado_subsampleado = df_normalizado_subsampleado.sample(frac=1);"
      ],
      "execution_count": null,
      "outputs": []
    },
    {
      "cell_type": "markdown",
      "metadata": {
        "id": "MAphoh38Ox98"
      },
      "source": [
        "El df_normalizado_subsampleado será el dataframe con las condiciones ideoneas para encajar en varias distribuciones o soluciones, ya que será un dataframe balanceado en cuanto a labels, estará encodeado y normalizado con lo cual todos los features serán valores entre 0 y 1."
      ]
    },
    {
      "cell_type": "markdown",
      "metadata": {
        "id": "V9TetkhI_L5l"
      },
      "source": [
        "# **Tratamiento de datos con mean encoding y normalización + feature volumen**"
      ]
    },
    {
      "cell_type": "markdown",
      "metadata": {
        "id": "KdkyvFg7_jxt"
      },
      "source": [
        "Creamos tres columnas que reemplazarán a el label, serán damage_grade_1, damage_grade_2 y damage_grade_3"
      ]
    },
    {
      "cell_type": "code",
      "metadata": {
        "id": "alOh4W0u_hPd"
      },
      "source": [
        "df_mean   = df.copy();\n",
        "test_mean = test_values.copy();\n",
        "\n",
        "# Creamos las tres columnas nuevas para los damage\n",
        "df_mean['damage_grade_1'] = [1 if s == 1 else 0 for s in df['damage_grade']]\n",
        "df_mean['damage_grade_2'] = [1 if s == 2 else 0 for s in df['damage_grade']]\n",
        "df_mean['damage_grade_3'] = [1 if s == 3 else 0 for s in df['damage_grade']]\n",
        "#df_mean.drop(columns=['damage_grade'],inplace=True);"
      ],
      "execution_count": null,
      "outputs": []
    },
    {
      "cell_type": "markdown",
      "metadata": {
        "id": "5V8B4xIhB64f"
      },
      "source": [
        "Encodeamos las columnas de variables categoricas"
      ]
    },
    {
      "cell_type": "code",
      "metadata": {
        "id": "yc4wNLCb_Xke"
      },
      "source": [
        "columnas = ['land_surface_condition',\n",
        "            'geo_level_3_id',\n",
        "            'roof_type',\n",
        "            'ground_floor_type',\n",
        "            'other_floor_type',\n",
        "            'position',\n",
        "            'plan_configuration',\n",
        "            'legal_ownership_status',\n",
        "            'geo_level_1_id',\n",
        "            'geo_level_2_id',\n",
        "            'foundation_type'];\n",
        "\n",
        "for row in columnas:\n",
        "  Auxiliar_1 = row + '_1'\n",
        "  Auxiliar_2 = row + '_2'\n",
        "  Auxiliar_3 = row + '_3'\n",
        "  \n",
        "  # Calculamos la frecuencia por cada grado de cada valor de la variable damage_grade\n",
        "  Auxiliar_mean_1 = df_mean.groupby([row])['damage_grade_1'].mean()\n",
        "  Auxiliar_mean_2 = df_mean.groupby([row])['damage_grade_2'].mean()\n",
        "  Auxiliar_mean_3 = df_mean.groupby([row])['damage_grade_3'].mean()\n",
        "\n",
        "  # Llenamos las columnas con las frecuencias \n",
        "  df_mean.loc[:,Auxiliar_1]   = df_mean[row].map(Auxiliar_mean_1);\n",
        "  df_mean.loc[:,Auxiliar_2]   = df_mean[row].map(Auxiliar_mean_2);\n",
        "  df_mean.loc[:,Auxiliar_3]   = df_mean[row].map(Auxiliar_mean_3);\n",
        "  test_mean.loc[:,Auxiliar_1] = test_mean[row].map(Auxiliar_mean_1);\n",
        "  test_mean.loc[:,Auxiliar_2] = test_mean[row].map(Auxiliar_mean_2);\n",
        "  test_mean.loc[:,Auxiliar_3] = test_mean[row].map(Auxiliar_mean_3);"
      ],
      "execution_count": null,
      "outputs": []
    },
    {
      "cell_type": "markdown",
      "metadata": {
        "id": "p7h_wxA6h31i"
      },
      "source": [
        "Borramos las columnas que encodeamos para dejar solo las nuevas fabricadas"
      ]
    },
    {
      "cell_type": "code",
      "metadata": {
        "id": "fKboBo3Kh7_W"
      },
      "source": [
        "columnas = ['land_surface_condition',\n",
        "            'geo_level_3_id',\n",
        "            'roof_type',\n",
        "            'ground_floor_type',\n",
        "            'other_floor_type',\n",
        "            'position',\n",
        "            'plan_configuration',\n",
        "            'legal_ownership_status',\n",
        "            'geo_level_1_id',\n",
        "            'geo_level_2_id',\n",
        "            'foundation_type'];\n",
        "df_mean.drop(columns = columnas,axis=1,inplace=True);\n",
        "test_mean.drop(columns = columnas,axis=1,inplace=True);"
      ],
      "execution_count": null,
      "outputs": []
    },
    {
      "cell_type": "markdown",
      "metadata": {
        "id": "buLPctNnauy5"
      },
      "source": [
        "Creamos una nueva columna numérica para el volumen de la estructura, esta estará definida como Area * Altura del edificio."
      ]
    },
    {
      "cell_type": "code",
      "metadata": {
        "id": "hW6-nHm2a2_4"
      },
      "source": [
        "df_mean['volumen_normalizado']        = df_mean['area_percentage']*df_mean['height_percentage'];\n",
        "test_mean['volumen_normalizado']      = test_mean['area_percentage']*test_mean['height_percentage'];\n",
        "\n",
        "df_normalizado_mean   = df_mean.copy();\n",
        "test_normalizado_mean = test_mean.copy();\n",
        "#df_mean['alargamiento_normalizado'] = df_mean['height_percentage']/df_mean['area_percentage'];"
      ],
      "execution_count": null,
      "outputs": []
    },
    {
      "cell_type": "code",
      "metadata": {
        "id": "_o-znmnawo2V"
      },
      "source": [
        "df_normalizado_mean"
      ],
      "execution_count": null,
      "outputs": []
    },
    {
      "cell_type": "markdown",
      "metadata": {
        "id": "DbwPwoyLhMsa"
      },
      "source": [
        "Normalizamos las variables numéricas"
      ]
    },
    {
      "cell_type": "code",
      "metadata": {
        "id": "zHEnnKHeE4DA"
      },
      "source": [
        "# ........................................Celda de normalización...............................\n",
        "# Ponemos las variables numericas entre 0-1\n",
        "df_normalizado_mean = df_mean.copy()\n",
        "columnas            = ['count_floors_pre_eq',\n",
        "                  'age',\n",
        "                  'area_percentage',\n",
        "                  'height_percentage',\n",
        "                  'count_families',\n",
        "                  'volumen_normalizado'];\n",
        "\n",
        "for i in columnas:\n",
        "  # Restamos la media y lo dividimos por la varianza\n",
        "  df_normalizado_mean[i] = (df_mean[i]-df_mean[i].mean())/df_mean[i].std();\n",
        "  \n",
        "  # Escalamos entre valores entre 0 y 1\n",
        "  min_value         = df_normalizado_mean[i].min();\n",
        "  max_value         = df_normalizado_mean[i].max();\n",
        "  df_normalizado_mean[i] = (df_normalizado_mean[i]-min_value)/(max_value-min_value); "
      ],
      "execution_count": null,
      "outputs": []
    },
    {
      "cell_type": "markdown",
      "metadata": {
        "id": "HhO1oqclmp9v"
      },
      "source": [
        "Borramos las columnas de damage_grade_1, ..._2, ..._3"
      ]
    },
    {
      "cell_type": "code",
      "metadata": {
        "id": "OueUiGxhm2o1"
      },
      "source": [
        "df_normalizado_mean.drop(columns=['damage_grade_1'],inplace=True);\n",
        "df_normalizado_mean.drop(columns=['damage_grade_2'],inplace=True);\n",
        "df_normalizado_mean.drop(columns=['damage_grade_3'],inplace=True);"
      ],
      "execution_count": null,
      "outputs": []
    },
    {
      "cell_type": "markdown",
      "metadata": {
        "id": "DBVyYRH2jQ0v"
      },
      "source": [
        "Guardamos el CSV"
      ]
    },
    {
      "cell_type": "code",
      "metadata": {
        "id": "igvQZdMFhozu"
      },
      "source": [
        "df_normalizado_mean.to_csv('/content/gdrive/MyDrive/Colab Notebooks/dataset_meanEncoding_normalizado.csv');"
      ],
      "execution_count": null,
      "outputs": []
    },
    {
      "cell_type": "markdown",
      "metadata": {
        "id": "CJn2FSFLRrPz"
      },
      "source": [
        "# **Features Importance**"
      ]
    },
    {
      "cell_type": "markdown",
      "metadata": {
        "id": "7Km1hRRMQieg"
      },
      "source": [
        "Ahora vamos a buscar los features importances a traves del metodo de Random Forest"
      ]
    },
    {
      "cell_type": "code",
      "metadata": {
        "id": "B8wmVuh1QrCs"
      },
      "source": [
        "# from sklearn.decomposition import PCA\n",
        "from sklearn import neighbors, metrics\n",
        "from sklearn.model_selection import train_test_split\n",
        "from sklearn.ensemble import RandomForestClassifier"
      ],
      "execution_count": null,
      "outputs": []
    },
    {
      "cell_type": "code",
      "metadata": {
        "id": "HQmN1LtUQyuA"
      },
      "source": [
        "# Separamos el dataframe en test y train\n",
        "df_normalizado_subsampleado_X = df_normalizado_subsampleado.drop(columns=['damage_grade']);\n",
        "df_normalizado_subsampleado_y = df_normalizado_subsampleado['damage_grade'];\n",
        "\n",
        "X_train, X_test, y_train, y_test = train_test_split(df_normalizado_subsampleado_X,df_normalizado_subsampleado_y,test_size = 0.2, random_state = 42);\n",
        "y_train                          = y_train.to_numpy();\n",
        "y_test                           = y_test.to_numpy();"
      ],
      "execution_count": null,
      "outputs": []
    },
    {
      "cell_type": "markdown",
      "metadata": {
        "id": "6yO-iDi4YD8x"
      },
      "source": [
        "Extraemos los nombres de las columnas e instanciamos el modelo y lo entramos"
      ]
    },
    {
      "cell_type": "code",
      "metadata": {
        "id": "M63iAdFVRzpU"
      },
      "source": [
        "feature_names = df_normalizado_subsampleado_X.columns.values\n",
        "forest = RandomForestClassifier(random_state=0)\n",
        "forest.fit(X_train, y_train)"
      ],
      "execution_count": null,
      "outputs": []
    },
    {
      "cell_type": "markdown",
      "metadata": {
        "id": "rCLEM55BeXjC"
      },
      "source": [
        "Graficamos la importancia de los features"
      ]
    },
    {
      "cell_type": "code",
      "metadata": {
        "id": "P9b3Ww3jYrEa"
      },
      "source": [
        "plt.figure(dpi=100)\n",
        "plt.bar(feature_names,forest.feature_importances_)\n",
        "plt.xlabel('Features en el dataset')\n",
        "plt.ylabel('Importancia')\n",
        "plt.xticks(rotation = 90)"
      ],
      "execution_count": null,
      "outputs": []
    },
    {
      "cell_type": "markdown",
      "metadata": {
        "id": "tZ2LIEGHlvEy"
      },
      "source": [
        "# **Feature importance para mean encoding**"
      ]
    },
    {
      "cell_type": "code",
      "metadata": {
        "id": "L_DV5V86l2MK"
      },
      "source": [
        "# from sklearn.decomposition import PCA\n",
        "from sklearn import neighbors, metrics\n",
        "from sklearn.model_selection import train_test_split\n",
        "from sklearn.ensemble import RandomForestClassifier\n",
        "import matplotlib.pyplot as plt\n",
        "import seaborn as sns"
      ],
      "execution_count": null,
      "outputs": []
    },
    {
      "cell_type": "code",
      "metadata": {
        "id": "ePVPVjyql43T"
      },
      "source": [
        "# Separamos el dataframe en test y train\n",
        "df_normalizado_mean_X = df_normalizado_mean.drop(columns=['damage_grade']);\n",
        "df_normalizado_mean_y = df_normalizado_mean['damage_grade'];\n",
        "#df_normalizado_mean_y = df_normalizado_mean[['damage_grade_1','damage_grade_2','damage_grade_3']];\n",
        "\n",
        "X_train, X_test, y_train, y_test = train_test_split(df_normalizado_mean_X,df_normalizado_mean_y,test_size = 0.1, random_state = 41);\n",
        "#y_train                          = y_train.to_numpy();\n",
        "#y_test                           = y_test.to_numpy();"
      ],
      "execution_count": null,
      "outputs": []
    },
    {
      "cell_type": "markdown",
      "metadata": {
        "id": "Hq6s5NOamPhi"
      },
      "source": [
        "Extraemos los nombres de las columnas e instanciamos el modelo y lo entramos"
      ]
    },
    {
      "cell_type": "code",
      "metadata": {
        "id": "TFz9S946mRnV"
      },
      "source": [
        "feature_names = df_normalizado_mean_X.columns.values\n",
        "forest = RandomForestClassifier(random_state=0)\n",
        "forest.fit(X_train, y_train)\n",
        "diccionario = pd.DataFrame(list(zip(feature_names,forest.feature_importances_*100)), columns = ['features','importance (%)']);"
      ],
      "execution_count": null,
      "outputs": []
    },
    {
      "cell_type": "markdown",
      "metadata": {
        "id": "dD1qJETQmT_k"
      },
      "source": [
        "Graficamos la importancia de los features"
      ]
    },
    {
      "cell_type": "code",
      "metadata": {
        "id": "hj6eeb5RmVx3",
        "colab": {
          "base_uri": "https://localhost:8080/",
          "height": 439
        },
        "outputId": "df2bcaef-778f-429c-98bd-cc1ed88872d8"
      },
      "source": [
        "primeros = diccionario.nlargest(10,columns=['importance (%)']);\n",
        "\n",
        "plt.figure(figsize=(12,5))\n",
        "sns.barplot(x = \"features\", y = \"importance (%)\",data = primeros)\n",
        "plt.xticks(rotation = 45,fontsize = 10)\n",
        "plt.yticks(fontsize = 10)\n",
        "plt.title('Importancia de features', fontsize=20)\n",
        "plt.xlabel('features', fontsize=20)\n",
        "plt.ylabel('importance (%)', fontsize=20)\n",
        "plt.show()"
      ],
      "execution_count": null,
      "outputs": [
        {
          "output_type": "display_data",
          "data": {
            "image/png": "[encoded data removed]",
            "text/plain": [
              "<Figure size 864x360 with 1 Axes>"
            ]
          },
          "metadata": {
            "tags": [],
            "needs_background": "light"
          }
        }
      ]
    },
    {
      "cell_type": "markdown",
      "metadata": {
        "id": "vLDsHhqXrSjt"
      },
      "source": [
        "# **Modelos**"
      ]
    },
    {
      "cell_type": "markdown",
      "metadata": {
        "id": "jiKhZGvFbG_o"
      },
      "source": [
        "Linea de importación"
      ]
    },
    {
      "cell_type": "code",
      "metadata": {
        "id": "WPpWQVQ_rVod"
      },
      "source": [
        "%matplotlib inline\n",
        "\n",
        "from pathlib import Path\n",
        "\n",
        "import numpy as np\n",
        "import pandas as pd\n",
        "\n",
        "import matplotlib.pyplot as plt\n",
        "import seaborn as sns\n",
        "from sklearn.model_selection import train_test_split\n",
        "from sklearn.metrics import f1_score,make_scorer\n",
        "from sklearn.model_selection import GridSearchCV,RandomizedSearchCV"
      ],
      "execution_count": null,
      "outputs": []
    },
    {
      "cell_type": "markdown",
      "metadata": {
        "id": "Hs7tgubWsDyj"
      },
      "source": [
        "Separamos el dataset con el train test split"
      ]
    },
    {
      "cell_type": "code",
      "metadata": {
        "id": "NAi4mhRsrcqq"
      },
      "source": [
        "# Separamos el dataframe en test y train\n",
        "df_normalizado_mean_X = df_normalizado_mean.drop(columns=['damage_grade']);\n",
        "df_normalizado_mean_y = df_normalizado_mean['damage_grade'];\n",
        "test_normalizado_mean;\n",
        "#df_normalizado_mean_y = df_normalizado_mean[['damage_grade_1','damage_grade_2','damage_grade_3']];\n",
        "\n",
        "X_train, X_test, y_train, y_test = train_test_split(df_normalizado_mean_X,df_normalizado_mean_y,test_size = 0.2);\n",
        "#y_train                          = y_train.to_numpy();\n",
        "#y_test                           = y_test.to_numpy();"
      ],
      "execution_count": null,
      "outputs": []
    },
    {
      "cell_type": "markdown",
      "metadata": {
        "id": "q6_0ZvHbsItV"
      },
      "source": [
        "instalamos el modelo"
      ]
    },
    {
      "cell_type": "code",
      "metadata": {
        "id": "mprpqlJEsAlY",
        "colab": {
          "base_uri": "https://localhost:8080/"
        },
        "outputId": "0f5f50c5-7a35-4990-ad9f-d3716b16fc3c"
      },
      "source": [
        "!pip install catboost"
      ],
      "execution_count": null,
      "outputs": [
        {
          "output_type": "stream",
          "text": [
            "Collecting catboost\n",
            "  Downloading catboost-0.26-cp37-none-manylinux1_x86_64.whl (69.2 MB)\n",
            "\u001b[K     |████████████████████████████████| 69.2 MB 5.1 kB/s \n",
            "\u001b[?25hRequirement already satisfied: six in /usr/local/lib/python3.7/dist-packages (from catboost) (1.15.0)\n",
            "Requirement already satisfied: pandas>=0.24.0 in /usr/local/lib/python3.7/dist-packages (from catboost) (1.1.5)\n",
            "Requirement already satisfied: plotly in /usr/local/lib/python3.7/dist-packages (from catboost) (4.4.1)\n",
            "Requirement already satisfied: matplotlib in /usr/local/lib/python3.7/dist-packages (from catboost) (3.2.2)\n",
            "Requirement already satisfied: scipy in /usr/local/lib/python3.7/dist-packages (from catboost) (1.4.1)\n",
            "Requirement already satisfied: graphviz in /usr/local/lib/python3.7/dist-packages (from catboost) (0.10.1)\n",
            "Requirement already satisfied: numpy>=1.16.0 in /usr/local/lib/python3.7/dist-packages (from catboost) (1.19.5)\n",
            "Requirement already satisfied: pytz>=2017.2 in /usr/local/lib/python3.7/dist-packages (from pandas>=0.24.0->catboost) (2018.9)\n",
            "Requirement already satisfied: python-dateutil>=2.7.3 in /usr/local/lib/python3.7/dist-packages (from pandas>=0.24.0->catboost) (2.8.1)\n",
            "Requirement already satisfied: cycler>=0.10 in /usr/local/lib/python3.7/dist-packages (from matplotlib->catboost) (0.10.0)\n",
            "Requirement already satisfied: pyparsing!=2.0.4,!=2.1.2,!=2.1.6,>=2.0.1 in /usr/local/lib/python3.7/dist-packages (from matplotlib->catboost) (2.4.7)\n",
            "Requirement already satisfied: kiwisolver>=1.0.1 in /usr/local/lib/python3.7/dist-packages (from matplotlib->catboost) (1.3.1)\n",
            "Requirement already satisfied: retrying>=1.3.3 in /usr/local/lib/python3.7/dist-packages (from plotly->catboost) (1.3.3)\n",
            "Installing collected packages: catboost\n",
            "Successfully installed catboost-0.26\n"
          ],
          "name": "stdout"
        }
      ]
    },
    {
      "cell_type": "markdown",
      "metadata": {
        "id": "AjN87XjTsQaI"
      },
      "source": [
        "Importamos el modelo y lo instanciamos"
      ]
    },
    {
      "cell_type": "code",
      "metadata": {
        "id": "oSYopjWrsTdY"
      },
      "source": [
        "from catboost import CatBoostClassifier\n",
        "\n",
        "CBC = CatBoostClassifier(random_state=2018);"
      ],
      "execution_count": null,
      "outputs": []
    },
    {
      "cell_type": "markdown",
      "metadata": {
        "id": "Y1FXCVUNWNxV"
      },
      "source": [
        "Creamos el parametro de grillado"
      ]
    },
    {
      "cell_type": "code",
      "metadata": {
        "id": "dWPbujBU-BVY"
      },
      "source": [
        "param_grid = {\"learning_rate\"    : [0.04,0.05, 0.10, 0.15, 0.20, 0.25, 0.30 ] ,\n",
        "              \"max_depth\"        : [10, 12, 15, 30, 50],\n",
        "              \"iterations\"       : [100, 150, 200, 250, 300]}"
      ],
      "execution_count": null,
      "outputs": []
    },
    {
      "cell_type": "markdown",
      "metadata": {
        "id": "ML5MTtv4Wd3S"
      },
      "source": [
        "Instanciamos el F1 score"
      ]
    },
    {
      "cell_type": "code",
      "metadata": {
        "id": "7ZfiB5LoWQ89"
      },
      "source": [
        "f1 = make_scorer(f1_score , average='micro');"
      ],
      "execution_count": null,
      "outputs": []
    },
    {
      "cell_type": "markdown",
      "metadata": {
        "id": "BkoDzgtcXIpJ"
      },
      "source": [
        "Instanciamos el RandomSearch"
      ]
    },
    {
      "cell_type": "code",
      "metadata": {
        "id": "rdESdRkmWjrN"
      },
      "source": [
        "rs = RandomizedSearchCV(CBC, param_grid, cv=3, scoring=f1);"
      ],
      "execution_count": null,
      "outputs": []
    },
    {
      "cell_type": "markdown",
      "metadata": {
        "id": "TYSZe2VRs7oT"
      },
      "source": [
        "Entreno el modelo"
      ]
    },
    {
      "cell_type": "code",
      "metadata": {
        "id": "Zc3ITUcls9b6",
        "colab": {
          "base_uri": "https://localhost:8080/"
        },
        "outputId": "ea948734-76ff-4494-b120-427b38711a56"
      },
      "source": [
        "#CBC.fit(X_train, y_train.values);\n",
        "CBC.fit(X_train, y_train.values.ravel());"
      ],
      "execution_count": null,
      "outputs": [
        {
          "output_type": "stream",
          "text": [
            "Learning rate set to 0.103895\n",
            "0:\tlearn: 1.0090159\ttotal: 330ms\tremaining: 5m 29s\n",
            "1:\tlearn: 0.9397756\ttotal: 551ms\tremaining: 4m 34s\n",
            "2:\tlearn: 0.8835563\ttotal: 772ms\tremaining: 4m 16s\n",
            "3:\tlearn: 0.8373759\ttotal: 990ms\tremaining: 4m 6s\n",
            "4:\tlearn: 0.7991401\ttotal: 1.2s\tremaining: 3m 58s\n",
            "5:\tlearn: 0.7672230\ttotal: 1.42s\tremaining: 3m 55s\n",
            "6:\tlearn: 0.7398871\ttotal: 1.64s\tremaining: 3m 52s\n",
            "7:\tlearn: 0.7170058\ttotal: 1.85s\tremaining: 3m 49s\n",
            "8:\tlearn: 0.6966166\ttotal: 2.08s\tremaining: 3m 48s\n",
            "9:\tlearn: 0.6788230\ttotal: 2.3s\tremaining: 3m 47s\n",
            "10:\tlearn: 0.6638125\ttotal: 2.53s\tremaining: 3m 47s\n",
            "11:\tlearn: 0.6505314\ttotal: 2.73s\tremaining: 3m 45s\n",
            "12:\tlearn: 0.6388002\ttotal: 2.94s\tremaining: 3m 43s\n",
            "13:\tlearn: 0.6282105\ttotal: 3.17s\tremaining: 3m 43s\n",
            "14:\tlearn: 0.6187631\ttotal: 3.37s\tremaining: 3m 41s\n",
            "15:\tlearn: 0.6114947\ttotal: 3.6s\tremaining: 3m 41s\n",
            "16:\tlearn: 0.6041281\ttotal: 3.82s\tremaining: 3m 41s\n",
            "17:\tlearn: 0.5973056\ttotal: 4.06s\tremaining: 3m 41s\n",
            "18:\tlearn: 0.5918456\ttotal: 4.31s\tremaining: 3m 42s\n",
            "19:\tlearn: 0.5862780\ttotal: 4.52s\tremaining: 3m 41s\n",
            "20:\tlearn: 0.5810690\ttotal: 4.74s\tremaining: 3m 40s\n",
            "21:\tlearn: 0.5764875\ttotal: 4.96s\tremaining: 3m 40s\n",
            "22:\tlearn: 0.5724304\ttotal: 5.2s\tremaining: 3m 41s\n",
            "23:\tlearn: 0.5687793\ttotal: 5.42s\tremaining: 3m 40s\n",
            "24:\tlearn: 0.5654511\ttotal: 5.61s\tremaining: 3m 38s\n",
            "25:\tlearn: 0.5624438\ttotal: 5.8s\tremaining: 3m 37s\n",
            "26:\tlearn: 0.5598485\ttotal: 6.01s\tremaining: 3m 36s\n",
            "27:\tlearn: 0.5575711\ttotal: 6.24s\tremaining: 3m 36s\n",
            "28:\tlearn: 0.5556533\ttotal: 6.43s\tremaining: 3m 35s\n",
            "29:\tlearn: 0.5538532\ttotal: 6.62s\tremaining: 3m 33s\n",
            "30:\tlearn: 0.5524350\ttotal: 6.83s\tremaining: 3m 33s\n",
            "31:\tlearn: 0.5504175\ttotal: 7.03s\tremaining: 3m 32s\n",
            "32:\tlearn: 0.5489555\ttotal: 7.26s\tremaining: 3m 32s\n",
            "33:\tlearn: 0.5469119\ttotal: 7.47s\tremaining: 3m 32s\n",
            "34:\tlearn: 0.5451305\ttotal: 7.69s\tremaining: 3m 32s\n",
            "35:\tlearn: 0.5442353\ttotal: 7.87s\tremaining: 3m 30s\n",
            "36:\tlearn: 0.5428193\ttotal: 8.12s\tremaining: 3m 31s\n",
            "37:\tlearn: 0.5415405\ttotal: 8.31s\tremaining: 3m 30s\n",
            "38:\tlearn: 0.5401125\ttotal: 8.54s\tremaining: 3m 30s\n",
            "39:\tlearn: 0.5390815\ttotal: 8.78s\tremaining: 3m 30s\n",
            "40:\tlearn: 0.5383205\ttotal: 8.97s\tremaining: 3m 29s\n",
            "41:\tlearn: 0.5377764\ttotal: 9.17s\tremaining: 3m 29s\n",
            "42:\tlearn: 0.5371355\ttotal: 9.35s\tremaining: 3m 28s\n",
            "43:\tlearn: 0.5363005\ttotal: 9.54s\tremaining: 3m 27s\n",
            "44:\tlearn: 0.5358740\ttotal: 9.73s\tremaining: 3m 26s\n",
            "45:\tlearn: 0.5351031\ttotal: 9.92s\tremaining: 3m 25s\n",
            "46:\tlearn: 0.5344996\ttotal: 10.1s\tremaining: 3m 25s\n",
            "47:\tlearn: 0.5337889\ttotal: 10.4s\tremaining: 3m 25s\n",
            "48:\tlearn: 0.5332500\ttotal: 10.6s\tremaining: 3m 25s\n",
            "49:\tlearn: 0.5329676\ttotal: 10.8s\tremaining: 3m 25s\n",
            "50:\tlearn: 0.5324335\ttotal: 11s\tremaining: 3m 24s\n",
            "51:\tlearn: 0.5320194\ttotal: 11.2s\tremaining: 3m 23s\n",
            "52:\tlearn: 0.5318541\ttotal: 11.4s\tremaining: 3m 22s\n",
            "53:\tlearn: 0.5315148\ttotal: 11.5s\tremaining: 3m 22s\n",
            "54:\tlearn: 0.5310095\ttotal: 11.7s\tremaining: 3m 21s\n",
            "55:\tlearn: 0.5306826\ttotal: 11.9s\tremaining: 3m 20s\n",
            "56:\tlearn: 0.5303387\ttotal: 12.1s\tremaining: 3m 20s\n",
            "57:\tlearn: 0.5298832\ttotal: 12.4s\tremaining: 3m 20s\n",
            "58:\tlearn: 0.5296772\ttotal: 12.5s\tremaining: 3m 19s\n",
            "59:\tlearn: 0.5292957\ttotal: 12.7s\tremaining: 3m 19s\n",
            "60:\tlearn: 0.5289956\ttotal: 12.9s\tremaining: 3m 19s\n",
            "61:\tlearn: 0.5286425\ttotal: 13.2s\tremaining: 3m 19s\n",
            "62:\tlearn: 0.5283944\ttotal: 13.3s\tremaining: 3m 18s\n",
            "63:\tlearn: 0.5280165\ttotal: 13.5s\tremaining: 3m 18s\n",
            "64:\tlearn: 0.5278606\ttotal: 13.7s\tremaining: 3m 17s\n",
            "65:\tlearn: 0.5275902\ttotal: 13.9s\tremaining: 3m 17s\n",
            "66:\tlearn: 0.5272788\ttotal: 14.2s\tremaining: 3m 17s\n",
            "67:\tlearn: 0.5270048\ttotal: 14.4s\tremaining: 3m 16s\n",
            "68:\tlearn: 0.5267489\ttotal: 14.5s\tremaining: 3m 16s\n",
            "69:\tlearn: 0.5264882\ttotal: 14.7s\tremaining: 3m 15s\n",
            "70:\tlearn: 0.5261405\ttotal: 14.9s\tremaining: 3m 15s\n",
            "71:\tlearn: 0.5258960\ttotal: 15.1s\tremaining: 3m 14s\n",
            "72:\tlearn: 0.5256758\ttotal: 15.3s\tremaining: 3m 14s\n",
            "73:\tlearn: 0.5255078\ttotal: 15.5s\tremaining: 3m 13s\n",
            "74:\tlearn: 0.5254043\ttotal: 15.7s\tremaining: 3m 13s\n",
            "75:\tlearn: 0.5252690\ttotal: 15.9s\tremaining: 3m 13s\n",
            "76:\tlearn: 0.5251172\ttotal: 16.1s\tremaining: 3m 12s\n",
            "77:\tlearn: 0.5248339\ttotal: 16.3s\tremaining: 3m 12s\n",
            "78:\tlearn: 0.5246902\ttotal: 16.5s\tremaining: 3m 11s\n",
            "79:\tlearn: 0.5243739\ttotal: 16.7s\tremaining: 3m 11s\n",
            "80:\tlearn: 0.5240720\ttotal: 16.9s\tremaining: 3m 11s\n",
            "81:\tlearn: 0.5239529\ttotal: 17.1s\tremaining: 3m 11s\n",
            "82:\tlearn: 0.5238259\ttotal: 17.2s\tremaining: 3m 10s\n",
            "83:\tlearn: 0.5237102\ttotal: 17.4s\tremaining: 3m 9s\n",
            "84:\tlearn: 0.5234845\ttotal: 17.6s\tremaining: 3m 9s\n",
            "85:\tlearn: 0.5233159\ttotal: 17.8s\tremaining: 3m 9s\n",
            "86:\tlearn: 0.5230966\ttotal: 18s\tremaining: 3m 8s\n",
            "87:\tlearn: 0.5229807\ttotal: 18.2s\tremaining: 3m 8s\n",
            "88:\tlearn: 0.5228153\ttotal: 18.4s\tremaining: 3m 8s\n",
            "89:\tlearn: 0.5227400\ttotal: 18.6s\tremaining: 3m 7s\n",
            "90:\tlearn: 0.5225643\ttotal: 18.7s\tremaining: 3m 7s\n",
            "91:\tlearn: 0.5223404\ttotal: 19s\tremaining: 3m 7s\n",
            "92:\tlearn: 0.5220961\ttotal: 19.2s\tremaining: 3m 7s\n",
            "93:\tlearn: 0.5219049\ttotal: 19.4s\tremaining: 3m 6s\n",
            "94:\tlearn: 0.5217423\ttotal: 19.6s\tremaining: 3m 6s\n",
            "95:\tlearn: 0.5216184\ttotal: 19.8s\tremaining: 3m 6s\n",
            "96:\tlearn: 0.5214938\ttotal: 20s\tremaining: 3m 5s\n",
            "97:\tlearn: 0.5214103\ttotal: 20.1s\tremaining: 3m 5s\n",
            "98:\tlearn: 0.5212751\ttotal: 20.3s\tremaining: 3m 5s\n",
            "99:\tlearn: 0.5212133\ttotal: 20.5s\tremaining: 3m 4s\n",
            "100:\tlearn: 0.5211619\ttotal: 20.7s\tremaining: 3m 4s\n",
            "101:\tlearn: 0.5209949\ttotal: 20.9s\tremaining: 3m 3s\n",
            "102:\tlearn: 0.5208650\ttotal: 21.1s\tremaining: 3m 3s\n",
            "103:\tlearn: 0.5207687\ttotal: 21.2s\tremaining: 3m 3s\n",
            "104:\tlearn: 0.5206393\ttotal: 21.5s\tremaining: 3m 2s\n",
            "105:\tlearn: 0.5205434\ttotal: 21.6s\tremaining: 3m 2s\n",
            "106:\tlearn: 0.5204937\ttotal: 21.8s\tremaining: 3m 1s\n",
            "107:\tlearn: 0.5203283\ttotal: 22s\tremaining: 3m 1s\n",
            "108:\tlearn: 0.5202388\ttotal: 22.2s\tremaining: 3m 1s\n",
            "109:\tlearn: 0.5201276\ttotal: 22.3s\tremaining: 3m\n",
            "110:\tlearn: 0.5200465\ttotal: 22.5s\tremaining: 3m\n",
            "111:\tlearn: 0.5197922\ttotal: 22.7s\tremaining: 3m\n",
            "112:\tlearn: 0.5195760\ttotal: 22.9s\tremaining: 2m 59s\n",
            "113:\tlearn: 0.5194064\ttotal: 23.1s\tremaining: 2m 59s\n",
            "114:\tlearn: 0.5192993\ttotal: 23.3s\tremaining: 2m 59s\n",
            "115:\tlearn: 0.5192125\ttotal: 23.5s\tremaining: 2m 59s\n",
            "116:\tlearn: 0.5191355\ttotal: 23.7s\tremaining: 2m 58s\n",
            "117:\tlearn: 0.5190095\ttotal: 23.9s\tremaining: 2m 58s\n",
            "118:\tlearn: 0.5189275\ttotal: 24.1s\tremaining: 2m 58s\n",
            "119:\tlearn: 0.5187180\ttotal: 24.3s\tremaining: 2m 58s\n",
            "120:\tlearn: 0.5186134\ttotal: 24.5s\tremaining: 2m 58s\n",
            "121:\tlearn: 0.5183969\ttotal: 24.7s\tremaining: 2m 57s\n",
            "122:\tlearn: 0.5183034\ttotal: 24.9s\tremaining: 2m 57s\n",
            "123:\tlearn: 0.5181751\ttotal: 25.1s\tremaining: 2m 57s\n",
            "124:\tlearn: 0.5180439\ttotal: 25.3s\tremaining: 2m 57s\n",
            "125:\tlearn: 0.5178921\ttotal: 25.5s\tremaining: 2m 56s\n",
            "126:\tlearn: 0.5178423\ttotal: 25.7s\tremaining: 2m 56s\n",
            "127:\tlearn: 0.5176927\ttotal: 25.9s\tremaining: 2m 56s\n",
            "128:\tlearn: 0.5176271\ttotal: 26.1s\tremaining: 2m 55s\n",
            "129:\tlearn: 0.5174682\ttotal: 26.3s\tremaining: 2m 55s\n",
            "130:\tlearn: 0.5173570\ttotal: 26.5s\tremaining: 2m 55s\n",
            "131:\tlearn: 0.5173010\ttotal: 26.6s\tremaining: 2m 55s\n",
            "132:\tlearn: 0.5172181\ttotal: 26.8s\tremaining: 2m 54s\n",
            "133:\tlearn: 0.5171108\ttotal: 27s\tremaining: 2m 54s\n",
            "134:\tlearn: 0.5170244\ttotal: 27.2s\tremaining: 2m 53s\n",
            "135:\tlearn: 0.5168587\ttotal: 27.4s\tremaining: 2m 53s\n",
            "136:\tlearn: 0.5167167\ttotal: 27.6s\tremaining: 2m 53s\n",
            "137:\tlearn: 0.5166201\ttotal: 27.8s\tremaining: 2m 53s\n",
            "138:\tlearn: 0.5164876\ttotal: 28s\tremaining: 2m 53s\n",
            "139:\tlearn: 0.5163648\ttotal: 28.2s\tremaining: 2m 53s\n",
            "140:\tlearn: 0.5163156\ttotal: 28.4s\tremaining: 2m 52s\n",
            "141:\tlearn: 0.5162606\ttotal: 28.6s\tremaining: 2m 52s\n",
            "142:\tlearn: 0.5161696\ttotal: 28.8s\tremaining: 2m 52s\n",
            "143:\tlearn: 0.5160554\ttotal: 28.9s\tremaining: 2m 52s\n",
            "144:\tlearn: 0.5159770\ttotal: 29.1s\tremaining: 2m 51s\n",
            "145:\tlearn: 0.5158618\ttotal: 29.3s\tremaining: 2m 51s\n",
            "146:\tlearn: 0.5157862\ttotal: 29.6s\tremaining: 2m 51s\n",
            "147:\tlearn: 0.5156870\ttotal: 29.8s\tremaining: 2m 51s\n",
            "148:\tlearn: 0.5156126\ttotal: 30s\tremaining: 2m 51s\n",
            "149:\tlearn: 0.5155173\ttotal: 30.2s\tremaining: 2m 50s\n",
            "150:\tlearn: 0.5154578\ttotal: 30.3s\tremaining: 2m 50s\n",
            "151:\tlearn: 0.5153787\ttotal: 30.6s\tremaining: 2m 50s\n",
            "152:\tlearn: 0.5153043\ttotal: 30.7s\tremaining: 2m 50s\n",
            "153:\tlearn: 0.5152476\ttotal: 30.9s\tremaining: 2m 49s\n",
            "154:\tlearn: 0.5151820\ttotal: 31.1s\tremaining: 2m 49s\n",
            "155:\tlearn: 0.5150553\ttotal: 31.3s\tremaining: 2m 49s\n",
            "156:\tlearn: 0.5149758\ttotal: 31.5s\tremaining: 2m 49s\n",
            "157:\tlearn: 0.5148991\ttotal: 31.7s\tremaining: 2m 48s\n",
            "158:\tlearn: 0.5148405\ttotal: 31.9s\tremaining: 2m 48s\n",
            "159:\tlearn: 0.5146732\ttotal: 32.1s\tremaining: 2m 48s\n",
            "160:\tlearn: 0.5145781\ttotal: 32.3s\tremaining: 2m 48s\n",
            "161:\tlearn: 0.5144975\ttotal: 32.5s\tremaining: 2m 48s\n",
            "162:\tlearn: 0.5144484\ttotal: 32.7s\tremaining: 2m 48s\n",
            "163:\tlearn: 0.5143633\ttotal: 32.9s\tremaining: 2m 47s\n",
            "164:\tlearn: 0.5142967\ttotal: 33.1s\tremaining: 2m 47s\n",
            "165:\tlearn: 0.5142052\ttotal: 33.2s\tremaining: 2m 47s\n",
            "166:\tlearn: 0.5141686\ttotal: 33.4s\tremaining: 2m 46s\n",
            "167:\tlearn: 0.5140372\ttotal: 33.6s\tremaining: 2m 46s\n",
            "168:\tlearn: 0.5139755\ttotal: 33.8s\tremaining: 2m 46s\n",
            "169:\tlearn: 0.5139447\ttotal: 34s\tremaining: 2m 46s\n",
            "170:\tlearn: 0.5138856\ttotal: 34.2s\tremaining: 2m 45s\n",
            "171:\tlearn: 0.5137835\ttotal: 34.5s\tremaining: 2m 45s\n",
            "172:\tlearn: 0.5137263\ttotal: 34.7s\tremaining: 2m 45s\n",
            "173:\tlearn: 0.5136601\ttotal: 34.8s\tremaining: 2m 45s\n",
            "174:\tlearn: 0.5135286\ttotal: 35s\tremaining: 2m 45s\n",
            "175:\tlearn: 0.5134313\ttotal: 35.2s\tremaining: 2m 44s\n",
            "176:\tlearn: 0.5133433\ttotal: 35.4s\tremaining: 2m 44s\n",
            "177:\tlearn: 0.5132991\ttotal: 35.6s\tremaining: 2m 44s\n",
            "178:\tlearn: 0.5132359\ttotal: 35.8s\tremaining: 2m 44s\n",
            "179:\tlearn: 0.5131945\ttotal: 36s\tremaining: 2m 44s\n",
            "180:\tlearn: 0.5130608\ttotal: 36.2s\tremaining: 2m 43s\n",
            "181:\tlearn: 0.5130057\ttotal: 36.4s\tremaining: 2m 43s\n",
            "182:\tlearn: 0.5128865\ttotal: 36.6s\tremaining: 2m 43s\n",
            "183:\tlearn: 0.5128565\ttotal: 36.8s\tremaining: 2m 43s\n",
            "184:\tlearn: 0.5127799\ttotal: 37s\tremaining: 2m 43s\n",
            "185:\tlearn: 0.5126764\ttotal: 37.2s\tremaining: 2m 42s\n",
            "186:\tlearn: 0.5125843\ttotal: 37.4s\tremaining: 2m 42s\n",
            "187:\tlearn: 0.5125077\ttotal: 37.7s\tremaining: 2m 42s\n",
            "188:\tlearn: 0.5124296\ttotal: 37.9s\tremaining: 2m 42s\n",
            "189:\tlearn: 0.5123528\ttotal: 38.1s\tremaining: 2m 42s\n",
            "190:\tlearn: 0.5122970\ttotal: 38.3s\tremaining: 2m 42s\n",
            "191:\tlearn: 0.5122564\ttotal: 38.5s\tremaining: 2m 42s\n",
            "192:\tlearn: 0.5121916\ttotal: 38.7s\tremaining: 2m 41s\n",
            "193:\tlearn: 0.5120465\ttotal: 38.9s\tremaining: 2m 41s\n",
            "194:\tlearn: 0.5119939\ttotal: 39.1s\tremaining: 2m 41s\n",
            "195:\tlearn: 0.5119316\ttotal: 39.3s\tremaining: 2m 41s\n",
            "196:\tlearn: 0.5118810\ttotal: 39.5s\tremaining: 2m 41s\n",
            "197:\tlearn: 0.5117795\ttotal: 39.8s\tremaining: 2m 41s\n",
            "198:\tlearn: 0.5116707\ttotal: 40s\tremaining: 2m 40s\n",
            "199:\tlearn: 0.5115820\ttotal: 40.2s\tremaining: 2m 40s\n",
            "200:\tlearn: 0.5115561\ttotal: 40.4s\tremaining: 2m 40s\n",
            "201:\tlearn: 0.5115185\ttotal: 40.5s\tremaining: 2m 40s\n",
            "202:\tlearn: 0.5114273\ttotal: 40.7s\tremaining: 2m 39s\n",
            "203:\tlearn: 0.5113890\ttotal: 40.9s\tremaining: 2m 39s\n",
            "204:\tlearn: 0.5113034\ttotal: 41.1s\tremaining: 2m 39s\n",
            "205:\tlearn: 0.5112671\ttotal: 41.3s\tremaining: 2m 39s\n",
            "206:\tlearn: 0.5112245\ttotal: 41.5s\tremaining: 2m 39s\n",
            "207:\tlearn: 0.5111886\ttotal: 41.7s\tremaining: 2m 38s\n",
            "208:\tlearn: 0.5111473\ttotal: 41.9s\tremaining: 2m 38s\n",
            "209:\tlearn: 0.5111097\ttotal: 42.1s\tremaining: 2m 38s\n",
            "210:\tlearn: 0.5110712\ttotal: 42.2s\tremaining: 2m 37s\n",
            "211:\tlearn: 0.5110033\ttotal: 42.5s\tremaining: 2m 37s\n",
            "212:\tlearn: 0.5109517\ttotal: 42.7s\tremaining: 2m 37s\n",
            "213:\tlearn: 0.5108742\ttotal: 42.9s\tremaining: 2m 37s\n",
            "214:\tlearn: 0.5108381\ttotal: 43.1s\tremaining: 2m 37s\n",
            "215:\tlearn: 0.5107884\ttotal: 43.3s\tremaining: 2m 37s\n",
            "216:\tlearn: 0.5107235\ttotal: 43.5s\tremaining: 2m 36s\n",
            "217:\tlearn: 0.5106717\ttotal: 43.7s\tremaining: 2m 36s\n",
            "218:\tlearn: 0.5106248\ttotal: 43.8s\tremaining: 2m 36s\n",
            "219:\tlearn: 0.5105654\ttotal: 44s\tremaining: 2m 36s\n",
            "220:\tlearn: 0.5105114\ttotal: 44.3s\tremaining: 2m 36s\n",
            "221:\tlearn: 0.5104605\ttotal: 44.4s\tremaining: 2m 35s\n",
            "222:\tlearn: 0.5103817\ttotal: 44.7s\tremaining: 2m 35s\n",
            "223:\tlearn: 0.5103420\ttotal: 44.8s\tremaining: 2m 35s\n",
            "224:\tlearn: 0.5102735\ttotal: 45.1s\tremaining: 2m 35s\n",
            "225:\tlearn: 0.5102142\ttotal: 45.3s\tremaining: 2m 35s\n",
            "226:\tlearn: 0.5100987\ttotal: 45.5s\tremaining: 2m 34s\n",
            "227:\tlearn: 0.5100501\ttotal: 45.7s\tremaining: 2m 34s\n",
            "228:\tlearn: 0.5099922\ttotal: 45.9s\tremaining: 2m 34s\n",
            "229:\tlearn: 0.5099401\ttotal: 46.1s\tremaining: 2m 34s\n",
            "230:\tlearn: 0.5099151\ttotal: 46.3s\tremaining: 2m 34s\n",
            "231:\tlearn: 0.5098656\ttotal: 46.5s\tremaining: 2m 33s\n",
            "232:\tlearn: 0.5098046\ttotal: 46.7s\tremaining: 2m 33s\n",
            "233:\tlearn: 0.5097299\ttotal: 46.9s\tremaining: 2m 33s\n",
            "234:\tlearn: 0.5096765\ttotal: 47.1s\tremaining: 2m 33s\n",
            "235:\tlearn: 0.5096408\ttotal: 47.3s\tremaining: 2m 33s\n",
            "236:\tlearn: 0.5095840\ttotal: 47.5s\tremaining: 2m 32s\n",
            "237:\tlearn: 0.5095392\ttotal: 47.7s\tremaining: 2m 32s\n",
            "238:\tlearn: 0.5094974\ttotal: 47.9s\tremaining: 2m 32s\n",
            "239:\tlearn: 0.5094361\ttotal: 48.1s\tremaining: 2m 32s\n",
            "240:\tlearn: 0.5093729\ttotal: 48.3s\tremaining: 2m 32s\n",
            "241:\tlearn: 0.5093371\ttotal: 48.5s\tremaining: 2m 31s\n",
            "242:\tlearn: 0.5092816\ttotal: 48.7s\tremaining: 2m 31s\n",
            "243:\tlearn: 0.5092204\ttotal: 48.9s\tremaining: 2m 31s\n",
            "244:\tlearn: 0.5091858\ttotal: 49.1s\tremaining: 2m 31s\n",
            "245:\tlearn: 0.5091263\ttotal: 49.3s\tremaining: 2m 31s\n",
            "246:\tlearn: 0.5091113\ttotal: 49.4s\tremaining: 2m 30s\n",
            "247:\tlearn: 0.5090723\ttotal: 49.6s\tremaining: 2m 30s\n",
            "248:\tlearn: 0.5089704\ttotal: 49.9s\tremaining: 2m 30s\n",
            "249:\tlearn: 0.5089116\ttotal: 50s\tremaining: 2m 30s\n",
            "250:\tlearn: 0.5088699\ttotal: 50.2s\tremaining: 2m 29s\n",
            "251:\tlearn: 0.5088343\ttotal: 50.4s\tremaining: 2m 29s\n",
            "252:\tlearn: 0.5087859\ttotal: 50.7s\tremaining: 2m 29s\n",
            "253:\tlearn: 0.5087322\ttotal: 50.9s\tremaining: 2m 29s\n",
            "254:\tlearn: 0.5086825\ttotal: 51.1s\tremaining: 2m 29s\n",
            "255:\tlearn: 0.5086221\ttotal: 51.3s\tremaining: 2m 29s\n",
            "256:\tlearn: 0.5085338\ttotal: 51.5s\tremaining: 2m 28s\n",
            "257:\tlearn: 0.5084712\ttotal: 51.7s\tremaining: 2m 28s\n",
            "258:\tlearn: 0.5084182\ttotal: 51.9s\tremaining: 2m 28s\n",
            "259:\tlearn: 0.5083770\ttotal: 52s\tremaining: 2m 28s\n",
            "260:\tlearn: 0.5083247\ttotal: 52.2s\tremaining: 2m 27s\n",
            "261:\tlearn: 0.5082429\ttotal: 52.5s\tremaining: 2m 27s\n",
            "262:\tlearn: 0.5082074\ttotal: 52.7s\tremaining: 2m 27s\n",
            "263:\tlearn: 0.5081650\ttotal: 52.9s\tremaining: 2m 27s\n",
            "264:\tlearn: 0.5081129\ttotal: 53.1s\tremaining: 2m 27s\n",
            "265:\tlearn: 0.5080694\ttotal: 53.3s\tremaining: 2m 27s\n",
            "266:\tlearn: 0.5080267\ttotal: 53.5s\tremaining: 2m 26s\n",
            "267:\tlearn: 0.5080018\ttotal: 53.7s\tremaining: 2m 26s\n",
            "268:\tlearn: 0.5079501\ttotal: 53.9s\tremaining: 2m 26s\n",
            "269:\tlearn: 0.5079117\ttotal: 54.2s\tremaining: 2m 26s\n",
            "270:\tlearn: 0.5078413\ttotal: 54.4s\tremaining: 2m 26s\n",
            "271:\tlearn: 0.5077936\ttotal: 54.6s\tremaining: 2m 26s\n",
            "272:\tlearn: 0.5077511\ttotal: 54.8s\tremaining: 2m 25s\n",
            "273:\tlearn: 0.5077345\ttotal: 55s\tremaining: 2m 25s\n",
            "274:\tlearn: 0.5076752\ttotal: 55.2s\tremaining: 2m 25s\n",
            "275:\tlearn: 0.5076207\ttotal: 55.4s\tremaining: 2m 25s\n",
            "276:\tlearn: 0.5075780\ttotal: 55.6s\tremaining: 2m 25s\n",
            "277:\tlearn: 0.5075157\ttotal: 55.8s\tremaining: 2m 24s\n",
            "278:\tlearn: 0.5074495\ttotal: 56s\tremaining: 2m 24s\n",
            "279:\tlearn: 0.5073867\ttotal: 56.2s\tremaining: 2m 24s\n",
            "280:\tlearn: 0.5073457\ttotal: 56.4s\tremaining: 2m 24s\n",
            "281:\tlearn: 0.5073008\ttotal: 56.6s\tremaining: 2m 24s\n",
            "282:\tlearn: 0.5072485\ttotal: 56.8s\tremaining: 2m 23s\n",
            "283:\tlearn: 0.5072139\ttotal: 57s\tremaining: 2m 23s\n",
            "284:\tlearn: 0.5071759\ttotal: 57.2s\tremaining: 2m 23s\n",
            "285:\tlearn: 0.5070915\ttotal: 57.4s\tremaining: 2m 23s\n",
            "286:\tlearn: 0.5070769\ttotal: 57.6s\tremaining: 2m 23s\n",
            "287:\tlearn: 0.5070219\ttotal: 57.7s\tremaining: 2m 22s\n",
            "288:\tlearn: 0.5069839\ttotal: 57.9s\tremaining: 2m 22s\n",
            "289:\tlearn: 0.5068999\ttotal: 58.2s\tremaining: 2m 22s\n",
            "290:\tlearn: 0.5068531\ttotal: 58.3s\tremaining: 2m 22s\n",
            "291:\tlearn: 0.5068269\ttotal: 58.5s\tremaining: 2m 21s\n",
            "292:\tlearn: 0.5067930\ttotal: 58.7s\tremaining: 2m 21s\n",
            "293:\tlearn: 0.5067441\ttotal: 58.9s\tremaining: 2m 21s\n",
            "294:\tlearn: 0.5067027\ttotal: 59.1s\tremaining: 2m 21s\n",
            "295:\tlearn: 0.5066624\ttotal: 59.3s\tremaining: 2m 21s\n",
            "296:\tlearn: 0.5065994\ttotal: 59.5s\tremaining: 2m 20s\n",
            "297:\tlearn: 0.5065461\ttotal: 59.7s\tremaining: 2m 20s\n",
            "298:\tlearn: 0.5065172\ttotal: 59.8s\tremaining: 2m 20s\n",
            "299:\tlearn: 0.5064816\ttotal: 1m\tremaining: 2m 20s\n",
            "300:\tlearn: 0.5064155\ttotal: 1m\tremaining: 2m 19s\n",
            "301:\tlearn: 0.5063718\ttotal: 1m\tremaining: 2m 19s\n",
            "302:\tlearn: 0.5063399\ttotal: 1m\tremaining: 2m 19s\n",
            "303:\tlearn: 0.5063066\ttotal: 1m\tremaining: 2m 19s\n",
            "304:\tlearn: 0.5062696\ttotal: 1m 1s\tremaining: 2m 19s\n",
            "305:\tlearn: 0.5062456\ttotal: 1m 1s\tremaining: 2m 18s\n",
            "306:\tlearn: 0.5061675\ttotal: 1m 1s\tremaining: 2m 18s\n",
            "307:\tlearn: 0.5061162\ttotal: 1m 1s\tremaining: 2m 18s\n",
            "308:\tlearn: 0.5060748\ttotal: 1m 1s\tremaining: 2m 18s\n",
            "309:\tlearn: 0.5060305\ttotal: 1m 2s\tremaining: 2m 18s\n",
            "310:\tlearn: 0.5059732\ttotal: 1m 2s\tremaining: 2m 18s\n",
            "311:\tlearn: 0.5059515\ttotal: 1m 2s\tremaining: 2m 17s\n",
            "312:\tlearn: 0.5059220\ttotal: 1m 2s\tremaining: 2m 17s\n",
            "313:\tlearn: 0.5059049\ttotal: 1m 2s\tremaining: 2m 17s\n",
            "314:\tlearn: 0.5058653\ttotal: 1m 3s\tremaining: 2m 17s\n",
            "315:\tlearn: 0.5058455\ttotal: 1m 3s\tremaining: 2m 16s\n",
            "316:\tlearn: 0.5057840\ttotal: 1m 3s\tremaining: 2m 16s\n",
            "317:\tlearn: 0.5057398\ttotal: 1m 3s\tremaining: 2m 16s\n",
            "318:\tlearn: 0.5056889\ttotal: 1m 3s\tremaining: 2m 16s\n",
            "319:\tlearn: 0.5056556\ttotal: 1m 4s\tremaining: 2m 16s\n",
            "320:\tlearn: 0.5056116\ttotal: 1m 4s\tremaining: 2m 15s\n",
            "321:\tlearn: 0.5055727\ttotal: 1m 4s\tremaining: 2m 15s\n",
            "322:\tlearn: 0.5055301\ttotal: 1m 4s\tremaining: 2m 15s\n",
            "323:\tlearn: 0.5054920\ttotal: 1m 4s\tremaining: 2m 15s\n",
            "324:\tlearn: 0.5054607\ttotal: 1m 5s\tremaining: 2m 15s\n",
            "325:\tlearn: 0.5054112\ttotal: 1m 5s\tremaining: 2m 14s\n",
            "326:\tlearn: 0.5053796\ttotal: 1m 5s\tremaining: 2m 14s\n",
            "327:\tlearn: 0.5053313\ttotal: 1m 5s\tremaining: 2m 14s\n",
            "328:\tlearn: 0.5052948\ttotal: 1m 5s\tremaining: 2m 14s\n",
            "329:\tlearn: 0.5052663\ttotal: 1m 6s\tremaining: 2m 14s\n",
            "330:\tlearn: 0.5051945\ttotal: 1m 6s\tremaining: 2m 14s\n",
            "331:\tlearn: 0.5051560\ttotal: 1m 6s\tremaining: 2m 13s\n",
            "332:\tlearn: 0.5051131\ttotal: 1m 6s\tremaining: 2m 13s\n",
            "333:\tlearn: 0.5050506\ttotal: 1m 6s\tremaining: 2m 13s\n",
            "334:\tlearn: 0.5050145\ttotal: 1m 7s\tremaining: 2m 13s\n",
            "335:\tlearn: 0.5049805\ttotal: 1m 7s\tremaining: 2m 12s\n",
            "336:\tlearn: 0.5049461\ttotal: 1m 7s\tremaining: 2m 12s\n",
            "337:\tlearn: 0.5049038\ttotal: 1m 7s\tremaining: 2m 12s\n",
            "338:\tlearn: 0.5048615\ttotal: 1m 7s\tremaining: 2m 12s\n",
            "339:\tlearn: 0.5048200\ttotal: 1m 8s\tremaining: 2m 12s\n",
            "340:\tlearn: 0.5047900\ttotal: 1m 8s\tremaining: 2m 11s\n",
            "341:\tlearn: 0.5047222\ttotal: 1m 8s\tremaining: 2m 11s\n",
            "342:\tlearn: 0.5046676\ttotal: 1m 8s\tremaining: 2m 11s\n",
            "343:\tlearn: 0.5046323\ttotal: 1m 8s\tremaining: 2m 11s\n",
            "344:\tlearn: 0.5046057\ttotal: 1m 8s\tremaining: 2m 10s\n",
            "345:\tlearn: 0.5045491\ttotal: 1m 9s\tremaining: 2m 10s\n",
            "346:\tlearn: 0.5044937\ttotal: 1m 9s\tremaining: 2m 10s\n",
            "347:\tlearn: 0.5044571\ttotal: 1m 9s\tremaining: 2m 10s\n",
            "348:\tlearn: 0.5044320\ttotal: 1m 9s\tremaining: 2m 10s\n",
            "349:\tlearn: 0.5044003\ttotal: 1m 9s\tremaining: 2m 9s\n",
            "350:\tlearn: 0.5043541\ttotal: 1m 10s\tremaining: 2m 9s\n",
            "351:\tlearn: 0.5043097\ttotal: 1m 10s\tremaining: 2m 9s\n",
            "352:\tlearn: 0.5042759\ttotal: 1m 10s\tremaining: 2m 9s\n",
            "353:\tlearn: 0.5041763\ttotal: 1m 10s\tremaining: 2m 9s\n",
            "354:\tlearn: 0.5041373\ttotal: 1m 10s\tremaining: 2m 8s\n",
            "355:\tlearn: 0.5040916\ttotal: 1m 11s\tremaining: 2m 8s\n",
            "356:\tlearn: 0.5040268\ttotal: 1m 11s\tremaining: 2m 8s\n",
            "357:\tlearn: 0.5039723\ttotal: 1m 11s\tremaining: 2m 8s\n",
            "358:\tlearn: 0.5039476\ttotal: 1m 11s\tremaining: 2m 8s\n",
            "359:\tlearn: 0.5038989\ttotal: 1m 11s\tremaining: 2m 7s\n",
            "360:\tlearn: 0.5038507\ttotal: 1m 12s\tremaining: 2m 7s\n",
            "361:\tlearn: 0.5038139\ttotal: 1m 12s\tremaining: 2m 7s\n",
            "362:\tlearn: 0.5037867\ttotal: 1m 12s\tremaining: 2m 7s\n",
            "363:\tlearn: 0.5037434\ttotal: 1m 12s\tremaining: 2m 7s\n",
            "364:\tlearn: 0.5037165\ttotal: 1m 12s\tremaining: 2m 6s\n",
            "365:\tlearn: 0.5036890\ttotal: 1m 13s\tremaining: 2m 6s\n",
            "366:\tlearn: 0.5036693\ttotal: 1m 13s\tremaining: 2m 6s\n",
            "367:\tlearn: 0.5036025\ttotal: 1m 13s\tremaining: 2m 6s\n",
            "368:\tlearn: 0.5035552\ttotal: 1m 13s\tremaining: 2m 6s\n",
            "369:\tlearn: 0.5034981\ttotal: 1m 13s\tremaining: 2m 5s\n",
            "370:\tlearn: 0.5034650\ttotal: 1m 14s\tremaining: 2m 5s\n",
            "371:\tlearn: 0.5034258\ttotal: 1m 14s\tremaining: 2m 5s\n",
            "372:\tlearn: 0.5034009\ttotal: 1m 14s\tremaining: 2m 5s\n",
            "373:\tlearn: 0.5033523\ttotal: 1m 14s\tremaining: 2m 5s\n",
            "374:\tlearn: 0.5033279\ttotal: 1m 14s\tremaining: 2m 4s\n",
            "375:\tlearn: 0.5032580\ttotal: 1m 15s\tremaining: 2m 4s\n",
            "376:\tlearn: 0.5032188\ttotal: 1m 15s\tremaining: 2m 4s\n",
            "377:\tlearn: 0.5032030\ttotal: 1m 15s\tremaining: 2m 4s\n",
            "378:\tlearn: 0.5031413\ttotal: 1m 15s\tremaining: 2m 4s\n",
            "379:\tlearn: 0.5031078\ttotal: 1m 15s\tremaining: 2m 3s\n",
            "380:\tlearn: 0.5030822\ttotal: 1m 16s\tremaining: 2m 3s\n",
            "381:\tlearn: 0.5030352\ttotal: 1m 16s\tremaining: 2m 3s\n",
            "382:\tlearn: 0.5029859\ttotal: 1m 16s\tremaining: 2m 3s\n",
            "383:\tlearn: 0.5029338\ttotal: 1m 16s\tremaining: 2m 3s\n",
            "384:\tlearn: 0.5028845\ttotal: 1m 16s\tremaining: 2m 2s\n",
            "385:\tlearn: 0.5028476\ttotal: 1m 17s\tremaining: 2m 2s\n",
            "386:\tlearn: 0.5027930\ttotal: 1m 17s\tremaining: 2m 2s\n",
            "387:\tlearn: 0.5027693\ttotal: 1m 17s\tremaining: 2m 2s\n",
            "388:\tlearn: 0.5027272\ttotal: 1m 17s\tremaining: 2m 2s\n",
            "389:\tlearn: 0.5026609\ttotal: 1m 17s\tremaining: 2m 1s\n",
            "390:\tlearn: 0.5026175\ttotal: 1m 18s\tremaining: 2m 1s\n",
            "391:\tlearn: 0.5025639\ttotal: 1m 18s\tremaining: 2m 1s\n",
            "392:\tlearn: 0.5025285\ttotal: 1m 18s\tremaining: 2m 1s\n",
            "393:\tlearn: 0.5025124\ttotal: 1m 18s\tremaining: 2m 1s\n",
            "394:\tlearn: 0.5024566\ttotal: 1m 19s\tremaining: 2m 1s\n",
            "395:\tlearn: 0.5024188\ttotal: 1m 19s\tremaining: 2m\n",
            "396:\tlearn: 0.5023656\ttotal: 1m 19s\tremaining: 2m\n",
            "397:\tlearn: 0.5023345\ttotal: 1m 19s\tremaining: 2m\n",
            "398:\tlearn: 0.5022687\ttotal: 1m 19s\tremaining: 2m\n",
            "399:\tlearn: 0.5022338\ttotal: 1m 20s\tremaining: 2m\n",
            "400:\tlearn: 0.5021898\ttotal: 1m 20s\tremaining: 1m 59s\n",
            "401:\tlearn: 0.5021723\ttotal: 1m 20s\tremaining: 1m 59s\n",
            "402:\tlearn: 0.5021249\ttotal: 1m 20s\tremaining: 1m 59s\n",
            "403:\tlearn: 0.5020952\ttotal: 1m 20s\tremaining: 1m 59s\n",
            "404:\tlearn: 0.5020570\ttotal: 1m 21s\tremaining: 1m 59s\n",
            "405:\tlearn: 0.5020187\ttotal: 1m 21s\tremaining: 1m 58s\n",
            "406:\tlearn: 0.5019765\ttotal: 1m 21s\tremaining: 1m 58s\n",
            "407:\tlearn: 0.5019569\ttotal: 1m 21s\tremaining: 1m 58s\n",
            "408:\tlearn: 0.5019097\ttotal: 1m 21s\tremaining: 1m 58s\n",
            "409:\tlearn: 0.5018552\ttotal: 1m 22s\tremaining: 1m 58s\n",
            "410:\tlearn: 0.5018057\ttotal: 1m 22s\tremaining: 1m 57s\n",
            "411:\tlearn: 0.5017440\ttotal: 1m 22s\tremaining: 1m 57s\n",
            "412:\tlearn: 0.5017114\ttotal: 1m 22s\tremaining: 1m 57s\n",
            "413:\tlearn: 0.5016540\ttotal: 1m 22s\tremaining: 1m 57s\n",
            "414:\tlearn: 0.5016225\ttotal: 1m 23s\tremaining: 1m 57s\n",
            "415:\tlearn: 0.5015946\ttotal: 1m 23s\tremaining: 1m 57s\n",
            "416:\tlearn: 0.5015836\ttotal: 1m 23s\tremaining: 1m 56s\n",
            "417:\tlearn: 0.5015476\ttotal: 1m 23s\tremaining: 1m 56s\n",
            "418:\tlearn: 0.5014980\ttotal: 1m 23s\tremaining: 1m 56s\n",
            "419:\tlearn: 0.5014660\ttotal: 1m 24s\tremaining: 1m 56s\n",
            "420:\tlearn: 0.5014221\ttotal: 1m 24s\tremaining: 1m 55s\n",
            "421:\tlearn: 0.5014138\ttotal: 1m 24s\tremaining: 1m 55s\n",
            "422:\tlearn: 0.5013794\ttotal: 1m 24s\tremaining: 1m 55s\n",
            "423:\tlearn: 0.5013323\ttotal: 1m 24s\tremaining: 1m 55s\n",
            "424:\tlearn: 0.5012953\ttotal: 1m 25s\tremaining: 1m 55s\n",
            "425:\tlearn: 0.5012691\ttotal: 1m 25s\tremaining: 1m 54s\n",
            "426:\tlearn: 0.5012342\ttotal: 1m 25s\tremaining: 1m 54s\n",
            "427:\tlearn: 0.5012003\ttotal: 1m 25s\tremaining: 1m 54s\n",
            "428:\tlearn: 0.5011578\ttotal: 1m 25s\tremaining: 1m 54s\n",
            "429:\tlearn: 0.5011424\ttotal: 1m 26s\tremaining: 1m 54s\n",
            "430:\tlearn: 0.5011079\ttotal: 1m 26s\tremaining: 1m 53s\n",
            "431:\tlearn: 0.5010570\ttotal: 1m 26s\tremaining: 1m 53s\n",
            "432:\tlearn: 0.5010307\ttotal: 1m 26s\tremaining: 1m 53s\n",
            "433:\tlearn: 0.5009853\ttotal: 1m 26s\tremaining: 1m 53s\n",
            "434:\tlearn: 0.5009340\ttotal: 1m 27s\tremaining: 1m 53s\n",
            "435:\tlearn: 0.5009158\ttotal: 1m 27s\tremaining: 1m 52s\n",
            "436:\tlearn: 0.5008595\ttotal: 1m 27s\tremaining: 1m 52s\n",
            "437:\tlearn: 0.5008084\ttotal: 1m 27s\tremaining: 1m 52s\n",
            "438:\tlearn: 0.5007553\ttotal: 1m 27s\tremaining: 1m 52s\n",
            "439:\tlearn: 0.5007401\ttotal: 1m 28s\tremaining: 1m 52s\n",
            "440:\tlearn: 0.5007059\ttotal: 1m 28s\tremaining: 1m 51s\n",
            "441:\tlearn: 0.5006978\ttotal: 1m 28s\tremaining: 1m 51s\n",
            "442:\tlearn: 0.5006633\ttotal: 1m 28s\tremaining: 1m 51s\n",
            "443:\tlearn: 0.5006449\ttotal: 1m 28s\tremaining: 1m 51s\n",
            "444:\tlearn: 0.5006081\ttotal: 1m 29s\tremaining: 1m 51s\n",
            "445:\tlearn: 0.5005671\ttotal: 1m 29s\tremaining: 1m 50s\n",
            "446:\tlearn: 0.5005167\ttotal: 1m 29s\tremaining: 1m 50s\n",
            "447:\tlearn: 0.5004888\ttotal: 1m 29s\tremaining: 1m 50s\n",
            "448:\tlearn: 0.5004566\ttotal: 1m 29s\tremaining: 1m 50s\n",
            "449:\tlearn: 0.5004062\ttotal: 1m 30s\tremaining: 1m 50s\n",
            "450:\tlearn: 0.5003710\ttotal: 1m 30s\tremaining: 1m 49s\n",
            "451:\tlearn: 0.5003429\ttotal: 1m 30s\tremaining: 1m 49s\n",
            "452:\tlearn: 0.5003191\ttotal: 1m 30s\tremaining: 1m 49s\n",
            "453:\tlearn: 0.5002896\ttotal: 1m 30s\tremaining: 1m 49s\n",
            "454:\tlearn: 0.5002611\ttotal: 1m 31s\tremaining: 1m 49s\n",
            "455:\tlearn: 0.5002264\ttotal: 1m 31s\tremaining: 1m 48s\n",
            "456:\tlearn: 0.5001939\ttotal: 1m 31s\tremaining: 1m 48s\n",
            "457:\tlearn: 0.5001695\ttotal: 1m 31s\tremaining: 1m 48s\n",
            "458:\tlearn: 0.5001493\ttotal: 1m 31s\tremaining: 1m 48s\n",
            "459:\tlearn: 0.5001201\ttotal: 1m 32s\tremaining: 1m 48s\n",
            "460:\tlearn: 0.5000892\ttotal: 1m 32s\tremaining: 1m 47s\n",
            "461:\tlearn: 0.5000468\ttotal: 1m 32s\tremaining: 1m 47s\n",
            "462:\tlearn: 0.5000117\ttotal: 1m 32s\tremaining: 1m 47s\n",
            "463:\tlearn: 0.4999727\ttotal: 1m 32s\tremaining: 1m 47s\n",
            "464:\tlearn: 0.4999592\ttotal: 1m 33s\tremaining: 1m 47s\n",
            "465:\tlearn: 0.4998796\ttotal: 1m 33s\tremaining: 1m 46s\n",
            "466:\tlearn: 0.4998313\ttotal: 1m 33s\tremaining: 1m 46s\n",
            "467:\tlearn: 0.4998090\ttotal: 1m 33s\tremaining: 1m 46s\n",
            "468:\tlearn: 0.4997807\ttotal: 1m 33s\tremaining: 1m 46s\n",
            "469:\tlearn: 0.4997306\ttotal: 1m 34s\tremaining: 1m 46s\n",
            "470:\tlearn: 0.4996862\ttotal: 1m 34s\tremaining: 1m 45s\n",
            "471:\tlearn: 0.4996742\ttotal: 1m 34s\tremaining: 1m 45s\n",
            "472:\tlearn: 0.4996556\ttotal: 1m 34s\tremaining: 1m 45s\n",
            "473:\tlearn: 0.4996316\ttotal: 1m 34s\tremaining: 1m 45s\n",
            "474:\tlearn: 0.4996055\ttotal: 1m 35s\tremaining: 1m 45s\n",
            "475:\tlearn: 0.4995734\ttotal: 1m 35s\tremaining: 1m 44s\n",
            "476:\tlearn: 0.4995563\ttotal: 1m 35s\tremaining: 1m 44s\n",
            "477:\tlearn: 0.4995179\ttotal: 1m 35s\tremaining: 1m 44s\n",
            "478:\tlearn: 0.4994842\ttotal: 1m 35s\tremaining: 1m 44s\n",
            "479:\tlearn: 0.4994324\ttotal: 1m 36s\tremaining: 1m 44s\n",
            "480:\tlearn: 0.4994028\ttotal: 1m 36s\tremaining: 1m 43s\n",
            "481:\tlearn: 0.4993601\ttotal: 1m 36s\tremaining: 1m 43s\n",
            "482:\tlearn: 0.4993230\ttotal: 1m 36s\tremaining: 1m 43s\n",
            "483:\tlearn: 0.4993007\ttotal: 1m 36s\tremaining: 1m 43s\n",
            "484:\tlearn: 0.4992675\ttotal: 1m 37s\tremaining: 1m 43s\n",
            "485:\tlearn: 0.4992141\ttotal: 1m 37s\tremaining: 1m 42s\n",
            "486:\tlearn: 0.4991671\ttotal: 1m 37s\tremaining: 1m 42s\n",
            "487:\tlearn: 0.4991428\ttotal: 1m 37s\tremaining: 1m 42s\n",
            "488:\tlearn: 0.4991255\ttotal: 1m 37s\tremaining: 1m 42s\n",
            "489:\tlearn: 0.4990858\ttotal: 1m 38s\tremaining: 1m 42s\n",
            "490:\tlearn: 0.4990486\ttotal: 1m 38s\tremaining: 1m 41s\n",
            "491:\tlearn: 0.4990097\ttotal: 1m 38s\tremaining: 1m 41s\n",
            "492:\tlearn: 0.4989772\ttotal: 1m 38s\tremaining: 1m 41s\n",
            "493:\tlearn: 0.4989356\ttotal: 1m 38s\tremaining: 1m 41s\n",
            "494:\tlearn: 0.4989146\ttotal: 1m 39s\tremaining: 1m 41s\n",
            "495:\tlearn: 0.4988919\ttotal: 1m 39s\tremaining: 1m 40s\n",
            "496:\tlearn: 0.4988481\ttotal: 1m 39s\tremaining: 1m 40s\n",
            "497:\tlearn: 0.4988229\ttotal: 1m 39s\tremaining: 1m 40s\n",
            "498:\tlearn: 0.4987860\ttotal: 1m 39s\tremaining: 1m 40s\n",
            "499:\tlearn: 0.4987596\ttotal: 1m 40s\tremaining: 1m 40s\n",
            "500:\tlearn: 0.4987109\ttotal: 1m 40s\tremaining: 1m 39s\n",
            "501:\tlearn: 0.4986840\ttotal: 1m 40s\tremaining: 1m 39s\n",
            "502:\tlearn: 0.4986564\ttotal: 1m 40s\tremaining: 1m 39s\n",
            "503:\tlearn: 0.4986236\ttotal: 1m 40s\tremaining: 1m 39s\n",
            "504:\tlearn: 0.4985995\ttotal: 1m 40s\tremaining: 1m 38s\n",
            "505:\tlearn: 0.4985599\ttotal: 1m 41s\tremaining: 1m 38s\n",
            "506:\tlearn: 0.4985256\ttotal: 1m 41s\tremaining: 1m 38s\n",
            "507:\tlearn: 0.4984930\ttotal: 1m 41s\tremaining: 1m 38s\n",
            "508:\tlearn: 0.4984735\ttotal: 1m 41s\tremaining: 1m 38s\n",
            "509:\tlearn: 0.4984362\ttotal: 1m 41s\tremaining: 1m 37s\n",
            "510:\tlearn: 0.4983846\ttotal: 1m 42s\tremaining: 1m 37s\n",
            "511:\tlearn: 0.4983408\ttotal: 1m 42s\tremaining: 1m 37s\n",
            "512:\tlearn: 0.4983016\ttotal: 1m 42s\tremaining: 1m 37s\n",
            "513:\tlearn: 0.4982675\ttotal: 1m 42s\tremaining: 1m 37s\n",
            "514:\tlearn: 0.4982308\ttotal: 1m 43s\tremaining: 1m 37s\n",
            "515:\tlearn: 0.4982091\ttotal: 1m 43s\tremaining: 1m 36s\n",
            "516:\tlearn: 0.4981821\ttotal: 1m 43s\tremaining: 1m 36s\n",
            "517:\tlearn: 0.4981489\ttotal: 1m 43s\tremaining: 1m 36s\n",
            "518:\tlearn: 0.4981231\ttotal: 1m 43s\tremaining: 1m 36s\n",
            "519:\tlearn: 0.4980976\ttotal: 1m 44s\tremaining: 1m 36s\n",
            "520:\tlearn: 0.4980538\ttotal: 1m 44s\tremaining: 1m 35s\n",
            "521:\tlearn: 0.4980332\ttotal: 1m 44s\tremaining: 1m 35s\n",
            "522:\tlearn: 0.4979962\ttotal: 1m 44s\tremaining: 1m 35s\n",
            "523:\tlearn: 0.4979728\ttotal: 1m 44s\tremaining: 1m 35s\n",
            "524:\tlearn: 0.4979334\ttotal: 1m 45s\tremaining: 1m 35s\n",
            "525:\tlearn: 0.4978994\ttotal: 1m 45s\tremaining: 1m 34s\n",
            "526:\tlearn: 0.4978720\ttotal: 1m 45s\tremaining: 1m 34s\n",
            "527:\tlearn: 0.4978566\ttotal: 1m 45s\tremaining: 1m 34s\n",
            "528:\tlearn: 0.4978222\ttotal: 1m 45s\tremaining: 1m 34s\n",
            "529:\tlearn: 0.4977982\ttotal: 1m 46s\tremaining: 1m 34s\n",
            "530:\tlearn: 0.4977730\ttotal: 1m 46s\tremaining: 1m 33s\n",
            "531:\tlearn: 0.4977263\ttotal: 1m 46s\tremaining: 1m 33s\n",
            "532:\tlearn: 0.4976909\ttotal: 1m 46s\tremaining: 1m 33s\n",
            "533:\tlearn: 0.4976699\ttotal: 1m 46s\tremaining: 1m 33s\n",
            "534:\tlearn: 0.4976399\ttotal: 1m 47s\tremaining: 1m 33s\n",
            "535:\tlearn: 0.4975967\ttotal: 1m 47s\tremaining: 1m 32s\n",
            "536:\tlearn: 0.4975509\ttotal: 1m 47s\tremaining: 1m 32s\n",
            "537:\tlearn: 0.4975109\ttotal: 1m 47s\tremaining: 1m 32s\n",
            "538:\tlearn: 0.4974895\ttotal: 1m 47s\tremaining: 1m 32s\n",
            "539:\tlearn: 0.4974572\ttotal: 1m 48s\tremaining: 1m 32s\n",
            "540:\tlearn: 0.4974261\ttotal: 1m 48s\tremaining: 1m 31s\n",
            "541:\tlearn: 0.4973762\ttotal: 1m 48s\tremaining: 1m 31s\n",
            "542:\tlearn: 0.4973697\ttotal: 1m 48s\tremaining: 1m 31s\n",
            "543:\tlearn: 0.4973393\ttotal: 1m 48s\tremaining: 1m 31s\n",
            "544:\tlearn: 0.4973019\ttotal: 1m 49s\tremaining: 1m 31s\n",
            "545:\tlearn: 0.4972431\ttotal: 1m 49s\tremaining: 1m 30s\n",
            "546:\tlearn: 0.4972259\ttotal: 1m 49s\tremaining: 1m 30s\n",
            "547:\tlearn: 0.4971799\ttotal: 1m 49s\tremaining: 1m 30s\n",
            "548:\tlearn: 0.4971662\ttotal: 1m 49s\tremaining: 1m 30s\n",
            "549:\tlearn: 0.4971424\ttotal: 1m 50s\tremaining: 1m 30s\n",
            "550:\tlearn: 0.4970953\ttotal: 1m 50s\tremaining: 1m 29s\n",
            "551:\tlearn: 0.4970704\ttotal: 1m 50s\tremaining: 1m 29s\n",
            "552:\tlearn: 0.4970269\ttotal: 1m 50s\tremaining: 1m 29s\n",
            "553:\tlearn: 0.4969995\ttotal: 1m 50s\tremaining: 1m 29s\n",
            "554:\tlearn: 0.4969768\ttotal: 1m 51s\tremaining: 1m 29s\n",
            "555:\tlearn: 0.4969631\ttotal: 1m 51s\tremaining: 1m 28s\n",
            "556:\tlearn: 0.4969398\ttotal: 1m 51s\tremaining: 1m 28s\n",
            "557:\tlearn: 0.4969113\ttotal: 1m 51s\tremaining: 1m 28s\n",
            "558:\tlearn: 0.4968883\ttotal: 1m 51s\tremaining: 1m 28s\n",
            "559:\tlearn: 0.4968608\ttotal: 1m 52s\tremaining: 1m 28s\n",
            "560:\tlearn: 0.4968084\ttotal: 1m 52s\tremaining: 1m 27s\n",
            "561:\tlearn: 0.4967854\ttotal: 1m 52s\tremaining: 1m 27s\n",
            "562:\tlearn: 0.4967610\ttotal: 1m 52s\tremaining: 1m 27s\n",
            "563:\tlearn: 0.4967035\ttotal: 1m 52s\tremaining: 1m 27s\n",
            "564:\tlearn: 0.4966666\ttotal: 1m 53s\tremaining: 1m 27s\n",
            "565:\tlearn: 0.4966337\ttotal: 1m 53s\tremaining: 1m 26s\n",
            "566:\tlearn: 0.4965930\ttotal: 1m 53s\tremaining: 1m 26s\n",
            "567:\tlearn: 0.4965632\ttotal: 1m 53s\tremaining: 1m 26s\n",
            "568:\tlearn: 0.4965454\ttotal: 1m 53s\tremaining: 1m 26s\n",
            "569:\tlearn: 0.4965156\ttotal: 1m 54s\tremaining: 1m 26s\n",
            "570:\tlearn: 0.4965024\ttotal: 1m 54s\tremaining: 1m 25s\n",
            "571:\tlearn: 0.4964585\ttotal: 1m 54s\tremaining: 1m 25s\n",
            "572:\tlearn: 0.4964301\ttotal: 1m 54s\tremaining: 1m 25s\n",
            "573:\tlearn: 0.4964019\ttotal: 1m 54s\tremaining: 1m 25s\n",
            "574:\tlearn: 0.4963785\ttotal: 1m 55s\tremaining: 1m 25s\n",
            "575:\tlearn: 0.4963591\ttotal: 1m 55s\tremaining: 1m 24s\n",
            "576:\tlearn: 0.4963446\ttotal: 1m 55s\tremaining: 1m 24s\n",
            "577:\tlearn: 0.4963167\ttotal: 1m 55s\tremaining: 1m 24s\n",
            "578:\tlearn: 0.4962921\ttotal: 1m 55s\tremaining: 1m 24s\n",
            "579:\tlearn: 0.4962663\ttotal: 1m 56s\tremaining: 1m 24s\n",
            "580:\tlearn: 0.4962337\ttotal: 1m 56s\tremaining: 1m 23s\n",
            "581:\tlearn: 0.4962005\ttotal: 1m 56s\tremaining: 1m 23s\n",
            "582:\tlearn: 0.4961827\ttotal: 1m 56s\tremaining: 1m 23s\n",
            "583:\tlearn: 0.4961449\ttotal: 1m 56s\tremaining: 1m 23s\n",
            "584:\tlearn: 0.4961200\ttotal: 1m 57s\tremaining: 1m 23s\n",
            "585:\tlearn: 0.4960711\ttotal: 1m 57s\tremaining: 1m 22s\n",
            "586:\tlearn: 0.4960319\ttotal: 1m 57s\tremaining: 1m 22s\n",
            "587:\tlearn: 0.4960051\ttotal: 1m 57s\tremaining: 1m 22s\n",
            "588:\tlearn: 0.4959715\ttotal: 1m 57s\tremaining: 1m 22s\n",
            "589:\tlearn: 0.4959323\ttotal: 1m 57s\tremaining: 1m 21s\n",
            "590:\tlearn: 0.4958944\ttotal: 1m 58s\tremaining: 1m 21s\n",
            "591:\tlearn: 0.4958511\ttotal: 1m 58s\tremaining: 1m 21s\n",
            "592:\tlearn: 0.4958183\ttotal: 1m 58s\tremaining: 1m 21s\n",
            "593:\tlearn: 0.4957875\ttotal: 1m 58s\tremaining: 1m 21s\n",
            "594:\tlearn: 0.4957536\ttotal: 1m 58s\tremaining: 1m 20s\n",
            "595:\tlearn: 0.4957371\ttotal: 1m 59s\tremaining: 1m 20s\n",
            "596:\tlearn: 0.4957050\ttotal: 1m 59s\tremaining: 1m 20s\n",
            "597:\tlearn: 0.4956768\ttotal: 1m 59s\tremaining: 1m 20s\n",
            "598:\tlearn: 0.4956544\ttotal: 1m 59s\tremaining: 1m 20s\n",
            "599:\tlearn: 0.4956203\ttotal: 1m 59s\tremaining: 1m 19s\n",
            "600:\tlearn: 0.4955926\ttotal: 2m\tremaining: 1m 19s\n",
            "601:\tlearn: 0.4955745\ttotal: 2m\tremaining: 1m 19s\n",
            "602:\tlearn: 0.4955346\ttotal: 2m\tremaining: 1m 19s\n",
            "603:\tlearn: 0.4955097\ttotal: 2m\tremaining: 1m 19s\n",
            "604:\tlearn: 0.4954661\ttotal: 2m\tremaining: 1m 18s\n",
            "605:\tlearn: 0.4954272\ttotal: 2m 1s\tremaining: 1m 18s\n",
            "606:\tlearn: 0.4953904\ttotal: 2m 1s\tremaining: 1m 18s\n",
            "607:\tlearn: 0.4953783\ttotal: 2m 1s\tremaining: 1m 18s\n",
            "608:\tlearn: 0.4953497\ttotal: 2m 1s\tremaining: 1m 18s\n",
            "609:\tlearn: 0.4952978\ttotal: 2m 1s\tremaining: 1m 17s\n",
            "610:\tlearn: 0.4952787\ttotal: 2m 2s\tremaining: 1m 17s\n",
            "611:\tlearn: 0.4952642\ttotal: 2m 2s\tremaining: 1m 17s\n",
            "612:\tlearn: 0.4952411\ttotal: 2m 2s\tremaining: 1m 17s\n",
            "613:\tlearn: 0.4952133\ttotal: 2m 2s\tremaining: 1m 17s\n",
            "614:\tlearn: 0.4951892\ttotal: 2m 2s\tremaining: 1m 16s\n",
            "615:\tlearn: 0.4951442\ttotal: 2m 3s\tremaining: 1m 16s\n",
            "616:\tlearn: 0.4951083\ttotal: 2m 3s\tremaining: 1m 16s\n",
            "617:\tlearn: 0.4950855\ttotal: 2m 3s\tremaining: 1m 16s\n",
            "618:\tlearn: 0.4950461\ttotal: 2m 3s\tremaining: 1m 16s\n",
            "619:\tlearn: 0.4950199\ttotal: 2m 3s\tremaining: 1m 15s\n",
            "620:\tlearn: 0.4949812\ttotal: 2m 4s\tremaining: 1m 15s\n",
            "621:\tlearn: 0.4949460\ttotal: 2m 4s\tremaining: 1m 15s\n",
            "622:\tlearn: 0.4949066\ttotal: 2m 4s\tremaining: 1m 15s\n",
            "623:\tlearn: 0.4948831\ttotal: 2m 4s\tremaining: 1m 15s\n",
            "624:\tlearn: 0.4948443\ttotal: 2m 4s\tremaining: 1m 14s\n",
            "625:\tlearn: 0.4947903\ttotal: 2m 5s\tremaining: 1m 14s\n",
            "626:\tlearn: 0.4947526\ttotal: 2m 5s\tremaining: 1m 14s\n",
            "627:\tlearn: 0.4947402\ttotal: 2m 5s\tremaining: 1m 14s\n",
            "628:\tlearn: 0.4947162\ttotal: 2m 5s\tremaining: 1m 14s\n",
            "629:\tlearn: 0.4946710\ttotal: 2m 5s\tremaining: 1m 13s\n",
            "630:\tlearn: 0.4946411\ttotal: 2m 6s\tremaining: 1m 13s\n",
            "631:\tlearn: 0.4946112\ttotal: 2m 6s\tremaining: 1m 13s\n",
            "632:\tlearn: 0.4945816\ttotal: 2m 6s\tremaining: 1m 13s\n",
            "633:\tlearn: 0.4945515\ttotal: 2m 6s\tremaining: 1m 13s\n",
            "634:\tlearn: 0.4945136\ttotal: 2m 6s\tremaining: 1m 12s\n",
            "635:\tlearn: 0.4944940\ttotal: 2m 7s\tremaining: 1m 12s\n",
            "636:\tlearn: 0.4944562\ttotal: 2m 7s\tremaining: 1m 12s\n",
            "637:\tlearn: 0.4944137\ttotal: 2m 7s\tremaining: 1m 12s\n",
            "638:\tlearn: 0.4943685\ttotal: 2m 7s\tremaining: 1m 12s\n",
            "639:\tlearn: 0.4943391\ttotal: 2m 7s\tremaining: 1m 11s\n",
            "640:\tlearn: 0.4943079\ttotal: 2m 8s\tremaining: 1m 11s\n",
            "641:\tlearn: 0.4942826\ttotal: 2m 8s\tremaining: 1m 11s\n",
            "642:\tlearn: 0.4942351\ttotal: 2m 8s\tremaining: 1m 11s\n",
            "643:\tlearn: 0.4942251\ttotal: 2m 8s\tremaining: 1m 11s\n",
            "644:\tlearn: 0.4941821\ttotal: 2m 9s\tremaining: 1m 11s\n",
            "645:\tlearn: 0.4941411\ttotal: 2m 9s\tremaining: 1m 10s\n",
            "646:\tlearn: 0.4941203\ttotal: 2m 9s\tremaining: 1m 10s\n",
            "647:\tlearn: 0.4940994\ttotal: 2m 9s\tremaining: 1m 10s\n",
            "648:\tlearn: 0.4940724\ttotal: 2m 9s\tremaining: 1m 10s\n",
            "649:\tlearn: 0.4940454\ttotal: 2m 10s\tremaining: 1m 10s\n",
            "650:\tlearn: 0.4940224\ttotal: 2m 10s\tremaining: 1m 9s\n",
            "651:\tlearn: 0.4939925\ttotal: 2m 10s\tremaining: 1m 9s\n",
            "652:\tlearn: 0.4939759\ttotal: 2m 10s\tremaining: 1m 9s\n",
            "653:\tlearn: 0.4939526\ttotal: 2m 10s\tremaining: 1m 9s\n",
            "654:\tlearn: 0.4939140\ttotal: 2m 11s\tremaining: 1m 9s\n",
            "655:\tlearn: 0.4938690\ttotal: 2m 11s\tremaining: 1m 8s\n",
            "656:\tlearn: 0.4938230\ttotal: 2m 11s\tremaining: 1m 8s\n",
            "657:\tlearn: 0.4937717\ttotal: 2m 11s\tremaining: 1m 8s\n",
            "658:\tlearn: 0.4937452\ttotal: 2m 11s\tremaining: 1m 8s\n",
            "659:\tlearn: 0.4937135\ttotal: 2m 12s\tremaining: 1m 8s\n",
            "660:\tlearn: 0.4936933\ttotal: 2m 12s\tremaining: 1m 7s\n",
            "661:\tlearn: 0.4936606\ttotal: 2m 12s\tremaining: 1m 7s\n",
            "662:\tlearn: 0.4936426\ttotal: 2m 12s\tremaining: 1m 7s\n",
            "663:\tlearn: 0.4936215\ttotal: 2m 12s\tremaining: 1m 7s\n",
            "664:\tlearn: 0.4936080\ttotal: 2m 13s\tremaining: 1m 7s\n",
            "665:\tlearn: 0.4935763\ttotal: 2m 13s\tremaining: 1m 6s\n",
            "666:\tlearn: 0.4935409\ttotal: 2m 13s\tremaining: 1m 6s\n",
            "667:\tlearn: 0.4935185\ttotal: 2m 13s\tremaining: 1m 6s\n",
            "668:\tlearn: 0.4934942\ttotal: 2m 13s\tremaining: 1m 6s\n",
            "669:\tlearn: 0.4934800\ttotal: 2m 14s\tremaining: 1m 6s\n",
            "670:\tlearn: 0.4934555\ttotal: 2m 14s\tremaining: 1m 5s\n",
            "671:\tlearn: 0.4934220\ttotal: 2m 14s\tremaining: 1m 5s\n",
            "672:\tlearn: 0.4933958\ttotal: 2m 14s\tremaining: 1m 5s\n",
            "673:\tlearn: 0.4933847\ttotal: 2m 14s\tremaining: 1m 5s\n",
            "674:\tlearn: 0.4933675\ttotal: 2m 15s\tremaining: 1m 5s\n",
            "675:\tlearn: 0.4933261\ttotal: 2m 15s\tremaining: 1m 4s\n",
            "676:\tlearn: 0.4932870\ttotal: 2m 15s\tremaining: 1m 4s\n",
            "677:\tlearn: 0.4932655\ttotal: 2m 15s\tremaining: 1m 4s\n",
            "678:\tlearn: 0.4932329\ttotal: 2m 15s\tremaining: 1m 4s\n",
            "679:\tlearn: 0.4931959\ttotal: 2m 16s\tremaining: 1m 4s\n",
            "680:\tlearn: 0.4931444\ttotal: 2m 16s\tremaining: 1m 3s\n",
            "681:\tlearn: 0.4931181\ttotal: 2m 16s\tremaining: 1m 3s\n",
            "682:\tlearn: 0.4930825\ttotal: 2m 16s\tremaining: 1m 3s\n",
            "683:\tlearn: 0.4930746\ttotal: 2m 17s\tremaining: 1m 3s\n",
            "684:\tlearn: 0.4930519\ttotal: 2m 17s\tremaining: 1m 3s\n",
            "685:\tlearn: 0.4930205\ttotal: 2m 17s\tremaining: 1m 2s\n",
            "686:\tlearn: 0.4929890\ttotal: 2m 17s\tremaining: 1m 2s\n",
            "687:\tlearn: 0.4929545\ttotal: 2m 17s\tremaining: 1m 2s\n",
            "688:\tlearn: 0.4929312\ttotal: 2m 18s\tremaining: 1m 2s\n",
            "689:\tlearn: 0.4929240\ttotal: 2m 18s\tremaining: 1m 2s\n",
            "690:\tlearn: 0.4929035\ttotal: 2m 18s\tremaining: 1m 1s\n",
            "691:\tlearn: 0.4928758\ttotal: 2m 18s\tremaining: 1m 1s\n",
            "692:\tlearn: 0.4928431\ttotal: 2m 18s\tremaining: 1m 1s\n",
            "693:\tlearn: 0.4928081\ttotal: 2m 19s\tremaining: 1m 1s\n",
            "694:\tlearn: 0.4927946\ttotal: 2m 19s\tremaining: 1m 1s\n",
            "695:\tlearn: 0.4927788\ttotal: 2m 19s\tremaining: 1m\n",
            "696:\tlearn: 0.4927377\ttotal: 2m 19s\tremaining: 1m\n",
            "697:\tlearn: 0.4927165\ttotal: 2m 19s\tremaining: 1m\n",
            "698:\tlearn: 0.4926751\ttotal: 2m 20s\tremaining: 1m\n",
            "699:\tlearn: 0.4926427\ttotal: 2m 20s\tremaining: 1m\n",
            "700:\tlearn: 0.4925921\ttotal: 2m 20s\tremaining: 60s\n",
            "701:\tlearn: 0.4925350\ttotal: 2m 20s\tremaining: 59.8s\n",
            "702:\tlearn: 0.4925071\ttotal: 2m 20s\tremaining: 59.6s\n",
            "703:\tlearn: 0.4924566\ttotal: 2m 21s\tremaining: 59.4s\n",
            "704:\tlearn: 0.4924370\ttotal: 2m 21s\tremaining: 59.2s\n",
            "705:\tlearn: 0.4924119\ttotal: 2m 21s\tremaining: 59s\n",
            "706:\tlearn: 0.4923876\ttotal: 2m 21s\tremaining: 58.8s\n",
            "707:\tlearn: 0.4923459\ttotal: 2m 22s\tremaining: 58.6s\n",
            "708:\tlearn: 0.4923262\ttotal: 2m 22s\tremaining: 58.4s\n",
            "709:\tlearn: 0.4922955\ttotal: 2m 22s\tremaining: 58.2s\n",
            "710:\tlearn: 0.4922733\ttotal: 2m 22s\tremaining: 58s\n",
            "711:\tlearn: 0.4922448\ttotal: 2m 22s\tremaining: 57.8s\n",
            "712:\tlearn: 0.4922133\ttotal: 2m 23s\tremaining: 57.6s\n",
            "713:\tlearn: 0.4921954\ttotal: 2m 23s\tremaining: 57.4s\n",
            "714:\tlearn: 0.4921684\ttotal: 2m 23s\tremaining: 57.2s\n",
            "715:\tlearn: 0.4921398\ttotal: 2m 23s\tremaining: 57s\n",
            "716:\tlearn: 0.4921187\ttotal: 2m 23s\tremaining: 56.8s\n",
            "717:\tlearn: 0.4920932\ttotal: 2m 24s\tremaining: 56.6s\n",
            "718:\tlearn: 0.4920669\ttotal: 2m 24s\tremaining: 56.4s\n",
            "719:\tlearn: 0.4920341\ttotal: 2m 24s\tremaining: 56.2s\n",
            "720:\tlearn: 0.4920024\ttotal: 2m 24s\tremaining: 56s\n",
            "721:\tlearn: 0.4919908\ttotal: 2m 24s\tremaining: 55.8s\n",
            "722:\tlearn: 0.4919688\ttotal: 2m 25s\tremaining: 55.6s\n",
            "723:\tlearn: 0.4919347\ttotal: 2m 25s\tremaining: 55.4s\n",
            "724:\tlearn: 0.4919067\ttotal: 2m 25s\tremaining: 55.2s\n",
            "725:\tlearn: 0.4918703\ttotal: 2m 25s\tremaining: 55s\n",
            "726:\tlearn: 0.4918372\ttotal: 2m 25s\tremaining: 54.8s\n",
            "727:\tlearn: 0.4918194\ttotal: 2m 26s\tremaining: 54.6s\n",
            "728:\tlearn: 0.4917719\ttotal: 2m 26s\tremaining: 54.4s\n",
            "729:\tlearn: 0.4917375\ttotal: 2m 26s\tremaining: 54.2s\n",
            "730:\tlearn: 0.4917071\ttotal: 2m 26s\tremaining: 54s\n",
            "731:\tlearn: 0.4916787\ttotal: 2m 26s\tremaining: 53.8s\n",
            "732:\tlearn: 0.4916421\ttotal: 2m 27s\tremaining: 53.6s\n",
            "733:\tlearn: 0.4915883\ttotal: 2m 27s\tremaining: 53.4s\n",
            "734:\tlearn: 0.4915733\ttotal: 2m 27s\tremaining: 53.2s\n",
            "735:\tlearn: 0.4915416\ttotal: 2m 27s\tremaining: 53s\n",
            "736:\tlearn: 0.4915187\ttotal: 2m 28s\tremaining: 52.8s\n",
            "737:\tlearn: 0.4914760\ttotal: 2m 28s\tremaining: 52.7s\n",
            "738:\tlearn: 0.4914321\ttotal: 2m 28s\tremaining: 52.5s\n",
            "739:\tlearn: 0.4914079\ttotal: 2m 28s\tremaining: 52.2s\n",
            "740:\tlearn: 0.4913828\ttotal: 2m 28s\tremaining: 52s\n",
            "741:\tlearn: 0.4913632\ttotal: 2m 29s\tremaining: 51.8s\n",
            "742:\tlearn: 0.4913318\ttotal: 2m 29s\tremaining: 51.6s\n",
            "743:\tlearn: 0.4913076\ttotal: 2m 29s\tremaining: 51.4s\n",
            "744:\tlearn: 0.4912818\ttotal: 2m 29s\tremaining: 51.2s\n",
            "745:\tlearn: 0.4912446\ttotal: 2m 29s\tremaining: 51s\n",
            "746:\tlearn: 0.4912103\ttotal: 2m 30s\tremaining: 50.8s\n",
            "747:\tlearn: 0.4911825\ttotal: 2m 30s\tremaining: 50.6s\n",
            "748:\tlearn: 0.4911628\ttotal: 2m 30s\tremaining: 50.4s\n",
            "749:\tlearn: 0.4911222\ttotal: 2m 30s\tremaining: 50.2s\n",
            "750:\tlearn: 0.4911017\ttotal: 2m 30s\tremaining: 50s\n",
            "751:\tlearn: 0.4910737\ttotal: 2m 31s\tremaining: 49.9s\n",
            "752:\tlearn: 0.4910597\ttotal: 2m 31s\tremaining: 49.7s\n",
            "753:\tlearn: 0.4910210\ttotal: 2m 31s\tremaining: 49.5s\n",
            "754:\tlearn: 0.4909831\ttotal: 2m 31s\tremaining: 49.3s\n",
            "755:\tlearn: 0.4909441\ttotal: 2m 32s\tremaining: 49.1s\n",
            "756:\tlearn: 0.4909171\ttotal: 2m 32s\tremaining: 48.9s\n",
            "757:\tlearn: 0.4908954\ttotal: 2m 32s\tremaining: 48.7s\n",
            "758:\tlearn: 0.4908714\ttotal: 2m 32s\tremaining: 48.5s\n",
            "759:\tlearn: 0.4908369\ttotal: 2m 32s\tremaining: 48.3s\n",
            "760:\tlearn: 0.4908154\ttotal: 2m 33s\tremaining: 48.1s\n",
            "761:\tlearn: 0.4907864\ttotal: 2m 33s\tremaining: 47.9s\n",
            "762:\tlearn: 0.4907580\ttotal: 2m 33s\tremaining: 47.7s\n",
            "763:\tlearn: 0.4907245\ttotal: 2m 33s\tremaining: 47.5s\n",
            "764:\tlearn: 0.4906862\ttotal: 2m 33s\tremaining: 47.3s\n",
            "765:\tlearn: 0.4906650\ttotal: 2m 34s\tremaining: 47.1s\n",
            "766:\tlearn: 0.4906360\ttotal: 2m 34s\tremaining: 46.9s\n",
            "767:\tlearn: 0.4906107\ttotal: 2m 34s\tremaining: 46.7s\n",
            "768:\tlearn: 0.4905742\ttotal: 2m 34s\tremaining: 46.5s\n",
            "769:\tlearn: 0.4905557\ttotal: 2m 34s\tremaining: 46.3s\n",
            "770:\tlearn: 0.4905319\ttotal: 2m 35s\tremaining: 46.1s\n",
            "771:\tlearn: 0.4905147\ttotal: 2m 35s\tremaining: 45.9s\n",
            "772:\tlearn: 0.4904872\ttotal: 2m 35s\tremaining: 45.7s\n",
            "773:\tlearn: 0.4904656\ttotal: 2m 35s\tremaining: 45.5s\n",
            "774:\tlearn: 0.4904241\ttotal: 2m 35s\tremaining: 45.3s\n",
            "775:\tlearn: 0.4903936\ttotal: 2m 36s\tremaining: 45.1s\n",
            "776:\tlearn: 0.4903756\ttotal: 2m 36s\tremaining: 44.9s\n",
            "777:\tlearn: 0.4903583\ttotal: 2m 36s\tremaining: 44.7s\n",
            "778:\tlearn: 0.4903297\ttotal: 2m 36s\tremaining: 44.5s\n",
            "779:\tlearn: 0.4902827\ttotal: 2m 36s\tremaining: 44.3s\n",
            "780:\tlearn: 0.4902462\ttotal: 2m 37s\tremaining: 44.1s\n",
            "781:\tlearn: 0.4902096\ttotal: 2m 37s\tremaining: 43.9s\n",
            "782:\tlearn: 0.4901746\ttotal: 2m 37s\tremaining: 43.7s\n",
            "783:\tlearn: 0.4901252\ttotal: 2m 37s\tremaining: 43.5s\n",
            "784:\tlearn: 0.4900894\ttotal: 2m 37s\tremaining: 43.3s\n",
            "785:\tlearn: 0.4900485\ttotal: 2m 38s\tremaining: 43.1s\n",
            "786:\tlearn: 0.4900398\ttotal: 2m 38s\tremaining: 42.9s\n",
            "787:\tlearn: 0.4900006\ttotal: 2m 38s\tremaining: 42.7s\n",
            "788:\tlearn: 0.4899737\ttotal: 2m 38s\tremaining: 42.5s\n",
            "789:\tlearn: 0.4899383\ttotal: 2m 39s\tremaining: 42.3s\n",
            "790:\tlearn: 0.4899126\ttotal: 2m 39s\tremaining: 42.1s\n",
            "791:\tlearn: 0.4898926\ttotal: 2m 39s\tremaining: 41.9s\n",
            "792:\tlearn: 0.4898552\ttotal: 2m 39s\tremaining: 41.7s\n",
            "793:\tlearn: 0.4898262\ttotal: 2m 39s\tremaining: 41.5s\n",
            "794:\tlearn: 0.4898100\ttotal: 2m 39s\tremaining: 41.3s\n",
            "795:\tlearn: 0.4897676\ttotal: 2m 40s\tremaining: 41.1s\n",
            "796:\tlearn: 0.4897417\ttotal: 2m 40s\tremaining: 40.9s\n",
            "797:\tlearn: 0.4897180\ttotal: 2m 40s\tremaining: 40.6s\n",
            "798:\tlearn: 0.4897011\ttotal: 2m 40s\tremaining: 40.4s\n",
            "799:\tlearn: 0.4896661\ttotal: 2m 40s\tremaining: 40.2s\n",
            "800:\tlearn: 0.4896330\ttotal: 2m 41s\tremaining: 40s\n",
            "801:\tlearn: 0.4896142\ttotal: 2m 41s\tremaining: 39.8s\n",
            "802:\tlearn: 0.4895849\ttotal: 2m 41s\tremaining: 39.6s\n",
            "803:\tlearn: 0.4895622\ttotal: 2m 41s\tremaining: 39.4s\n",
            "804:\tlearn: 0.4895410\ttotal: 2m 41s\tremaining: 39.2s\n",
            "805:\tlearn: 0.4895265\ttotal: 2m 42s\tremaining: 39s\n",
            "806:\tlearn: 0.4894960\ttotal: 2m 42s\tremaining: 38.8s\n",
            "807:\tlearn: 0.4894570\ttotal: 2m 42s\tremaining: 38.6s\n",
            "808:\tlearn: 0.4894368\ttotal: 2m 42s\tremaining: 38.4s\n",
            "809:\tlearn: 0.4894219\ttotal: 2m 42s\tremaining: 38.2s\n",
            "810:\tlearn: 0.4893953\ttotal: 2m 43s\tremaining: 38s\n",
            "811:\tlearn: 0.4893737\ttotal: 2m 43s\tremaining: 37.8s\n",
            "812:\tlearn: 0.4893542\ttotal: 2m 43s\tremaining: 37.6s\n",
            "813:\tlearn: 0.4893355\ttotal: 2m 43s\tremaining: 37.4s\n",
            "814:\tlearn: 0.4893125\ttotal: 2m 43s\tremaining: 37.2s\n",
            "815:\tlearn: 0.4892814\ttotal: 2m 44s\tremaining: 37s\n",
            "816:\tlearn: 0.4892685\ttotal: 2m 44s\tremaining: 36.8s\n",
            "817:\tlearn: 0.4892591\ttotal: 2m 44s\tremaining: 36.6s\n",
            "818:\tlearn: 0.4892349\ttotal: 2m 44s\tremaining: 36.4s\n",
            "819:\tlearn: 0.4892096\ttotal: 2m 44s\tremaining: 36.2s\n",
            "820:\tlearn: 0.4891817\ttotal: 2m 44s\tremaining: 36s\n",
            "821:\tlearn: 0.4891627\ttotal: 2m 45s\tremaining: 35.8s\n",
            "822:\tlearn: 0.4891229\ttotal: 2m 45s\tremaining: 35.6s\n",
            "823:\tlearn: 0.4891020\ttotal: 2m 45s\tremaining: 35.4s\n",
            "824:\tlearn: 0.4890811\ttotal: 2m 45s\tremaining: 35.2s\n",
            "825:\tlearn: 0.4890595\ttotal: 2m 46s\tremaining: 35s\n",
            "826:\tlearn: 0.4890330\ttotal: 2m 46s\tremaining: 34.8s\n",
            "827:\tlearn: 0.4890068\ttotal: 2m 46s\tremaining: 34.6s\n",
            "828:\tlearn: 0.4889638\ttotal: 2m 46s\tremaining: 34.4s\n",
            "829:\tlearn: 0.4889421\ttotal: 2m 46s\tremaining: 34.2s\n",
            "830:\tlearn: 0.4889207\ttotal: 2m 47s\tremaining: 34s\n",
            "831:\tlearn: 0.4888941\ttotal: 2m 47s\tremaining: 33.8s\n",
            "832:\tlearn: 0.4888808\ttotal: 2m 47s\tremaining: 33.6s\n",
            "833:\tlearn: 0.4888417\ttotal: 2m 47s\tremaining: 33.4s\n",
            "834:\tlearn: 0.4888176\ttotal: 2m 47s\tremaining: 33.2s\n",
            "835:\tlearn: 0.4887783\ttotal: 2m 48s\tremaining: 33s\n",
            "836:\tlearn: 0.4887517\ttotal: 2m 48s\tremaining: 32.8s\n",
            "837:\tlearn: 0.4887374\ttotal: 2m 48s\tremaining: 32.6s\n",
            "838:\tlearn: 0.4886997\ttotal: 2m 48s\tremaining: 32.4s\n",
            "839:\tlearn: 0.4886823\ttotal: 2m 48s\tremaining: 32.2s\n",
            "840:\tlearn: 0.4886640\ttotal: 2m 49s\tremaining: 32s\n",
            "841:\tlearn: 0.4886313\ttotal: 2m 49s\tremaining: 31.8s\n",
            "842:\tlearn: 0.4886025\ttotal: 2m 49s\tremaining: 31.6s\n",
            "843:\tlearn: 0.4885775\ttotal: 2m 49s\tremaining: 31.4s\n",
            "844:\tlearn: 0.4885550\ttotal: 2m 49s\tremaining: 31.2s\n",
            "845:\tlearn: 0.4885268\ttotal: 2m 50s\tremaining: 31s\n",
            "846:\tlearn: 0.4885068\ttotal: 2m 50s\tremaining: 30.8s\n",
            "847:\tlearn: 0.4884763\ttotal: 2m 50s\tremaining: 30.6s\n",
            "848:\tlearn: 0.4884358\ttotal: 2m 50s\tremaining: 30.4s\n",
            "849:\tlearn: 0.4884178\ttotal: 2m 50s\tremaining: 30.2s\n",
            "850:\tlearn: 0.4883890\ttotal: 2m 51s\tremaining: 30s\n",
            "851:\tlearn: 0.4883610\ttotal: 2m 51s\tremaining: 29.8s\n",
            "852:\tlearn: 0.4883379\ttotal: 2m 51s\tremaining: 29.6s\n",
            "853:\tlearn: 0.4883076\ttotal: 2m 51s\tremaining: 29.4s\n",
            "854:\tlearn: 0.4882971\ttotal: 2m 51s\tremaining: 29.2s\n",
            "855:\tlearn: 0.4882732\ttotal: 2m 52s\tremaining: 29s\n",
            "856:\tlearn: 0.4882450\ttotal: 2m 52s\tremaining: 28.8s\n",
            "857:\tlearn: 0.4882189\ttotal: 2m 52s\tremaining: 28.6s\n",
            "858:\tlearn: 0.4882098\ttotal: 2m 52s\tremaining: 28.4s\n",
            "859:\tlearn: 0.4881875\ttotal: 2m 52s\tremaining: 28.2s\n",
            "860:\tlearn: 0.4881724\ttotal: 2m 53s\tremaining: 28s\n",
            "861:\tlearn: 0.4881538\ttotal: 2m 53s\tremaining: 27.8s\n",
            "862:\tlearn: 0.4881322\ttotal: 2m 53s\tremaining: 27.5s\n",
            "863:\tlearn: 0.4881135\ttotal: 2m 53s\tremaining: 27.3s\n",
            "864:\tlearn: 0.4880862\ttotal: 2m 53s\tremaining: 27.1s\n",
            "865:\tlearn: 0.4880641\ttotal: 2m 54s\tremaining: 26.9s\n",
            "866:\tlearn: 0.4880440\ttotal: 2m 54s\tremaining: 26.7s\n",
            "867:\tlearn: 0.4880167\ttotal: 2m 54s\tremaining: 26.5s\n",
            "868:\tlearn: 0.4879915\ttotal: 2m 54s\tremaining: 26.3s\n",
            "869:\tlearn: 0.4879825\ttotal: 2m 54s\tremaining: 26.1s\n",
            "870:\tlearn: 0.4879454\ttotal: 2m 55s\tremaining: 25.9s\n",
            "871:\tlearn: 0.4879192\ttotal: 2m 55s\tremaining: 25.7s\n",
            "872:\tlearn: 0.4878881\ttotal: 2m 55s\tremaining: 25.5s\n",
            "873:\tlearn: 0.4878688\ttotal: 2m 55s\tremaining: 25.3s\n",
            "874:\tlearn: 0.4878356\ttotal: 2m 55s\tremaining: 25.1s\n",
            "875:\tlearn: 0.4878102\ttotal: 2m 56s\tremaining: 24.9s\n",
            "876:\tlearn: 0.4877851\ttotal: 2m 56s\tremaining: 24.7s\n",
            "877:\tlearn: 0.4877761\ttotal: 2m 56s\tremaining: 24.5s\n",
            "878:\tlearn: 0.4877470\ttotal: 2m 56s\tremaining: 24.3s\n",
            "879:\tlearn: 0.4877265\ttotal: 2m 56s\tremaining: 24.1s\n",
            "880:\tlearn: 0.4877072\ttotal: 2m 57s\tremaining: 23.9s\n",
            "881:\tlearn: 0.4876864\ttotal: 2m 57s\tremaining: 23.7s\n",
            "882:\tlearn: 0.4876523\ttotal: 2m 57s\tremaining: 23.5s\n",
            "883:\tlearn: 0.4876236\ttotal: 2m 57s\tremaining: 23.3s\n",
            "884:\tlearn: 0.4875913\ttotal: 2m 57s\tremaining: 23.1s\n",
            "885:\tlearn: 0.4875608\ttotal: 2m 58s\tremaining: 22.9s\n",
            "886:\tlearn: 0.4875478\ttotal: 2m 58s\tremaining: 22.7s\n",
            "887:\tlearn: 0.4875157\ttotal: 2m 58s\tremaining: 22.5s\n",
            "888:\tlearn: 0.4874935\ttotal: 2m 58s\tremaining: 22.3s\n",
            "889:\tlearn: 0.4874712\ttotal: 2m 59s\tremaining: 22.1s\n",
            "890:\tlearn: 0.4874295\ttotal: 2m 59s\tremaining: 21.9s\n",
            "891:\tlearn: 0.4874073\ttotal: 2m 59s\tremaining: 21.7s\n",
            "892:\tlearn: 0.4873743\ttotal: 2m 59s\tremaining: 21.5s\n",
            "893:\tlearn: 0.4873416\ttotal: 2m 59s\tremaining: 21.3s\n",
            "894:\tlearn: 0.4873163\ttotal: 3m\tremaining: 21.1s\n",
            "895:\tlearn: 0.4872823\ttotal: 3m\tremaining: 20.9s\n",
            "896:\tlearn: 0.4872575\ttotal: 3m\tremaining: 20.7s\n",
            "897:\tlearn: 0.4872335\ttotal: 3m\tremaining: 20.5s\n",
            "898:\tlearn: 0.4872111\ttotal: 3m\tremaining: 20.3s\n",
            "899:\tlearn: 0.4871912\ttotal: 3m 1s\tremaining: 20.1s\n",
            "900:\tlearn: 0.4871798\ttotal: 3m 1s\tremaining: 19.9s\n",
            "901:\tlearn: 0.4871567\ttotal: 3m 1s\tremaining: 19.7s\n",
            "902:\tlearn: 0.4871235\ttotal: 3m 1s\tremaining: 19.5s\n",
            "903:\tlearn: 0.4870975\ttotal: 3m 1s\tremaining: 19.3s\n",
            "904:\tlearn: 0.4870828\ttotal: 3m 2s\tremaining: 19.1s\n",
            "905:\tlearn: 0.4870697\ttotal: 3m 2s\tremaining: 18.9s\n",
            "906:\tlearn: 0.4870493\ttotal: 3m 2s\tremaining: 18.7s\n",
            "907:\tlearn: 0.4870265\ttotal: 3m 2s\tremaining: 18.5s\n",
            "908:\tlearn: 0.4869955\ttotal: 3m 2s\tremaining: 18.3s\n",
            "909:\tlearn: 0.4869696\ttotal: 3m 3s\tremaining: 18.1s\n",
            "910:\tlearn: 0.4869472\ttotal: 3m 3s\tremaining: 17.9s\n",
            "911:\tlearn: 0.4869210\ttotal: 3m 3s\tremaining: 17.7s\n",
            "912:\tlearn: 0.4868933\ttotal: 3m 3s\tremaining: 17.5s\n",
            "913:\tlearn: 0.4868755\ttotal: 3m 3s\tremaining: 17.3s\n",
            "914:\tlearn: 0.4868538\ttotal: 3m 4s\tremaining: 17.1s\n",
            "915:\tlearn: 0.4868266\ttotal: 3m 4s\tremaining: 16.9s\n",
            "916:\tlearn: 0.4867968\ttotal: 3m 4s\tremaining: 16.7s\n",
            "917:\tlearn: 0.4867635\ttotal: 3m 4s\tremaining: 16.5s\n",
            "918:\tlearn: 0.4867486\ttotal: 3m 4s\tremaining: 16.3s\n",
            "919:\tlearn: 0.4867241\ttotal: 3m 5s\tremaining: 16.1s\n",
            "920:\tlearn: 0.4866980\ttotal: 3m 5s\tremaining: 15.9s\n",
            "921:\tlearn: 0.4866640\ttotal: 3m 5s\tremaining: 15.7s\n",
            "922:\tlearn: 0.4866365\ttotal: 3m 5s\tremaining: 15.5s\n",
            "923:\tlearn: 0.4866105\ttotal: 3m 6s\tremaining: 15.3s\n",
            "924:\tlearn: 0.4865844\ttotal: 3m 6s\tremaining: 15.1s\n",
            "925:\tlearn: 0.4865593\ttotal: 3m 6s\tremaining: 14.9s\n",
            "926:\tlearn: 0.4865518\ttotal: 3m 6s\tremaining: 14.7s\n",
            "927:\tlearn: 0.4865339\ttotal: 3m 6s\tremaining: 14.5s\n",
            "928:\tlearn: 0.4865158\ttotal: 3m 6s\tremaining: 14.3s\n",
            "929:\tlearn: 0.4864733\ttotal: 3m 7s\tremaining: 14.1s\n",
            "930:\tlearn: 0.4864423\ttotal: 3m 7s\tremaining: 13.9s\n",
            "931:\tlearn: 0.4864093\ttotal: 3m 7s\tremaining: 13.7s\n",
            "932:\tlearn: 0.4863797\ttotal: 3m 7s\tremaining: 13.5s\n",
            "933:\tlearn: 0.4863604\ttotal: 3m 8s\tremaining: 13.3s\n",
            "934:\tlearn: 0.4863505\ttotal: 3m 8s\tremaining: 13.1s\n",
            "935:\tlearn: 0.4863235\ttotal: 3m 8s\tremaining: 12.9s\n",
            "936:\tlearn: 0.4862895\ttotal: 3m 8s\tremaining: 12.7s\n",
            "937:\tlearn: 0.4862790\ttotal: 3m 8s\tremaining: 12.5s\n",
            "938:\tlearn: 0.4862558\ttotal: 3m 9s\tremaining: 12.3s\n",
            "939:\tlearn: 0.4862411\ttotal: 3m 9s\tremaining: 12.1s\n",
            "940:\tlearn: 0.4862236\ttotal: 3m 9s\tremaining: 11.9s\n",
            "941:\tlearn: 0.4861913\ttotal: 3m 9s\tremaining: 11.7s\n",
            "942:\tlearn: 0.4861561\ttotal: 3m 9s\tremaining: 11.5s\n",
            "943:\tlearn: 0.4861458\ttotal: 3m 10s\tremaining: 11.3s\n",
            "944:\tlearn: 0.4861109\ttotal: 3m 10s\tremaining: 11.1s\n",
            "945:\tlearn: 0.4860672\ttotal: 3m 10s\tremaining: 10.9s\n",
            "946:\tlearn: 0.4860404\ttotal: 3m 10s\tremaining: 10.7s\n",
            "947:\tlearn: 0.4860222\ttotal: 3m 10s\tremaining: 10.5s\n",
            "948:\tlearn: 0.4859950\ttotal: 3m 11s\tremaining: 10.3s\n",
            "949:\tlearn: 0.4859646\ttotal: 3m 11s\tremaining: 10.1s\n",
            "950:\tlearn: 0.4859279\ttotal: 3m 11s\tremaining: 9.87s\n",
            "951:\tlearn: 0.4859138\ttotal: 3m 11s\tremaining: 9.67s\n",
            "952:\tlearn: 0.4858888\ttotal: 3m 11s\tremaining: 9.47s\n",
            "953:\tlearn: 0.4858610\ttotal: 3m 12s\tremaining: 9.27s\n",
            "954:\tlearn: 0.4858283\ttotal: 3m 12s\tremaining: 9.07s\n",
            "955:\tlearn: 0.4858014\ttotal: 3m 12s\tremaining: 8.87s\n",
            "956:\tlearn: 0.4857864\ttotal: 3m 12s\tremaining: 8.66s\n",
            "957:\tlearn: 0.4857633\ttotal: 3m 13s\tremaining: 8.46s\n",
            "958:\tlearn: 0.4857259\ttotal: 3m 13s\tremaining: 8.26s\n",
            "959:\tlearn: 0.4856981\ttotal: 3m 13s\tremaining: 8.06s\n",
            "960:\tlearn: 0.4856551\ttotal: 3m 13s\tremaining: 7.86s\n",
            "961:\tlearn: 0.4856253\ttotal: 3m 13s\tremaining: 7.66s\n",
            "962:\tlearn: 0.4855999\ttotal: 3m 14s\tremaining: 7.46s\n",
            "963:\tlearn: 0.4855732\ttotal: 3m 14s\tremaining: 7.25s\n",
            "964:\tlearn: 0.4855389\ttotal: 3m 14s\tremaining: 7.05s\n",
            "965:\tlearn: 0.4855107\ttotal: 3m 14s\tremaining: 6.85s\n",
            "966:\tlearn: 0.4854949\ttotal: 3m 14s\tremaining: 6.65s\n",
            "967:\tlearn: 0.4854647\ttotal: 3m 15s\tremaining: 6.45s\n",
            "968:\tlearn: 0.4854369\ttotal: 3m 15s\tremaining: 6.25s\n",
            "969:\tlearn: 0.4854086\ttotal: 3m 15s\tremaining: 6.05s\n",
            "970:\tlearn: 0.4853804\ttotal: 3m 15s\tremaining: 5.85s\n",
            "971:\tlearn: 0.4853570\ttotal: 3m 15s\tremaining: 5.64s\n",
            "972:\tlearn: 0.4853361\ttotal: 3m 16s\tremaining: 5.44s\n",
            "973:\tlearn: 0.4853314\ttotal: 3m 16s\tremaining: 5.24s\n",
            "974:\tlearn: 0.4853020\ttotal: 3m 16s\tremaining: 5.04s\n",
            "975:\tlearn: 0.4852788\ttotal: 3m 16s\tremaining: 4.84s\n",
            "976:\tlearn: 0.4852603\ttotal: 3m 16s\tremaining: 4.64s\n",
            "977:\tlearn: 0.4852372\ttotal: 3m 17s\tremaining: 4.43s\n",
            "978:\tlearn: 0.4852149\ttotal: 3m 17s\tremaining: 4.23s\n",
            "979:\tlearn: 0.4851897\ttotal: 3m 17s\tremaining: 4.03s\n",
            "980:\tlearn: 0.4851783\ttotal: 3m 17s\tremaining: 3.83s\n",
            "981:\tlearn: 0.4851679\ttotal: 3m 17s\tremaining: 3.63s\n",
            "982:\tlearn: 0.4851553\ttotal: 3m 18s\tremaining: 3.43s\n",
            "983:\tlearn: 0.4851214\ttotal: 3m 18s\tremaining: 3.23s\n",
            "984:\tlearn: 0.4851038\ttotal: 3m 18s\tremaining: 3.02s\n",
            "985:\tlearn: 0.4850724\ttotal: 3m 18s\tremaining: 2.82s\n",
            "986:\tlearn: 0.4850507\ttotal: 3m 18s\tremaining: 2.62s\n",
            "987:\tlearn: 0.4850260\ttotal: 3m 19s\tremaining: 2.42s\n",
            "988:\tlearn: 0.4849891\ttotal: 3m 19s\tremaining: 2.22s\n",
            "989:\tlearn: 0.4849768\ttotal: 3m 19s\tremaining: 2.02s\n",
            "990:\tlearn: 0.4849462\ttotal: 3m 19s\tremaining: 1.81s\n",
            "991:\tlearn: 0.4849270\ttotal: 3m 19s\tremaining: 1.61s\n",
            "992:\tlearn: 0.4848962\ttotal: 3m 20s\tremaining: 1.41s\n",
            "993:\tlearn: 0.4848746\ttotal: 3m 20s\tremaining: 1.21s\n",
            "994:\tlearn: 0.4848534\ttotal: 3m 20s\tremaining: 1.01s\n",
            "995:\tlearn: 0.4848251\ttotal: 3m 20s\tremaining: 807ms\n",
            "996:\tlearn: 0.4847993\ttotal: 3m 21s\tremaining: 605ms\n",
            "997:\tlearn: 0.4847781\ttotal: 3m 21s\tremaining: 403ms\n",
            "998:\tlearn: 0.4847583\ttotal: 3m 21s\tremaining: 202ms\n",
            "999:\tlearn: 0.4847215\ttotal: 3m 21s\tremaining: 0us\n"
          ],
          "name": "stdout"
        }
      ]
    },
    {
      "cell_type": "markdown",
      "metadata": {
        "id": "fukOJmdppdSb"
      },
      "source": [
        "Miramos los mejores estimadores del modelo"
      ]
    },
    {
      "cell_type": "code",
      "metadata": {
        "id": "W1rM0MqXphnB"
      },
      "source": [
        "#returns the estimator with the best performance\n",
        "print('El mejor estimador es: ',rs.best_estimator_)\n",
        "\n",
        "#returns the best score\n",
        "print('El mejor score es: ',rs.best_score_)\n",
        "\n",
        "#returns the best parameters\n",
        "print('Los mejores parámetros son: ',rs.best_params_)"
      ],
      "execution_count": null,
      "outputs": []
    },
    {
      "cell_type": "markdown",
      "metadata": {
        "id": "g1gkT2VctLsn"
      },
      "source": [
        "Medimos la performance del modelo con X_train con la metrica F1"
      ]
    },
    {
      "cell_type": "code",
      "metadata": {
        "colab": {
          "base_uri": "https://localhost:8080/"
        },
        "id": "4n2amjo1tVut",
        "outputId": "b7a8c3b3-d055-42a0-e3ed-887135349d17"
      },
      "source": [
        "#in_sample_preds = CBC.predict(X_train)\n",
        "#f1_score(y_train, in_sample_preds, average='micro')\n",
        "in_sample_preds = CBC.predict(X_train)\n",
        "f1_score(y_train, in_sample_preds, average='micro')"
      ],
      "execution_count": null,
      "outputs": [
        {
          "output_type": "execute_result",
          "data": {
            "text/plain": [
              "0.7785495011511896"
            ]
          },
          "metadata": {
            "tags": []
          },
          "execution_count": 18
        }
      ]
    },
    {
      "cell_type": "markdown",
      "metadata": {
        "id": "H-jiXpW0tatD"
      },
      "source": [
        "Medimos la performance del modelo con X_test con la metrica F1"
      ]
    },
    {
      "cell_type": "code",
      "metadata": {
        "colab": {
          "base_uri": "https://localhost:8080/"
        },
        "id": "qAIJ6UXytdo5",
        "outputId": "0166e3a1-6683-413e-8d33-47f3f8a2f445"
      },
      "source": [
        "#in_sample_preds = CBC.predict(X_test)\n",
        "#f1_score(y_test, in_sample_preds, average='micro')\n",
        "in_sample_preds = CBC.predict(X_test)\n",
        "f1_score(y_test, in_sample_preds, average='micro')"
      ],
      "execution_count": null,
      "outputs": [
        {
          "output_type": "execute_result",
          "data": {
            "text/plain": [
              "0.7616507741601274"
            ]
          },
          "metadata": {
            "tags": []
          },
          "execution_count": 19
        }
      ]
    },
    {
      "cell_type": "markdown",
      "metadata": {
        "id": "ANIYs-yOtl5X"
      },
      "source": [
        "Transformar columnas de test_values"
      ]
    },
    {
      "cell_type": "code",
      "metadata": {
        "id": "g73idBVmuJJ0"
      },
      "source": [
        "predictions = CBC.predict(test_normalizado_mean)"
      ],
      "execution_count": null,
      "outputs": []
    },
    {
      "cell_type": "markdown",
      "metadata": {
        "id": "Or9ByQx4zJHD"
      },
      "source": [
        "Guardamos las predicciones"
      ]
    },
    {
      "cell_type": "code",
      "metadata": {
        "id": "Q6Qb9CeszShG"
      },
      "source": [
        "submission_format = pd.read_csv('/content/gdrive/MyDrive/Colab Notebooks/submission_format.csv', index_col='building_id')"
      ],
      "execution_count": null,
      "outputs": []
    },
    {
      "cell_type": "code",
      "metadata": {
        "id": "lrNUsP85zooW"
      },
      "source": [
        "my_submission = pd.DataFrame(data=predictions,\n",
        "                             columns=submission_format.columns,\n",
        "                             index=submission_format.index)"
      ],
      "execution_count": null,
      "outputs": []
    },
    {
      "cell_type": "code",
      "metadata": {
        "id": "QdyEqzq5zqqo"
      },
      "source": [
        "my_submission.head()"
      ],
      "execution_count": null,
      "outputs": []
    },
    {
      "cell_type": "code",
      "metadata": {
        "id": "NeocUuJcztLY"
      },
      "source": [
        "my_submission.to_csv('/content/gdrive/MyDrive/Colab Notebooks/submission9.csv')"
      ],
      "execution_count": null,
      "outputs": []
    },
    {
      "cell_type": "code",
      "metadata": {
        "id": "KVz88RlHzuMn",
        "colab": {
          "base_uri": "https://localhost:8080/"
        },
        "outputId": "510ff481-cd88-44e8-98f8-28587275ed8a"
      },
      "source": [
        "!head submission.csv"
      ],
      "execution_count": null,
      "outputs": [
        {
          "output_type": "stream",
          "text": [
            "head: cannot open 'submission.csv' for reading: No such file or directory\n"
          ],
          "name": "stdout"
        }
      ]
    },
    {
      "cell_type": "code",
      "metadata": {
        "id": "Tu_jwfpUzxHj"
      },
      "source": [
        "my_submission.damage_grade.value_counts()"
      ],
      "execution_count": null,
      "outputs": []
    }
  ]
}